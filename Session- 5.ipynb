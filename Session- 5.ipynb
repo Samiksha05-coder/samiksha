{
 "cells": [
  {
   "cell_type": "markdown",
   "id": "cd94b306-4252-4ece-bb1d-8ca2ef5ed931",
   "metadata": {},
   "source": [
    "# Q1. Join Tuples if similar initial elements\n",
    "\n",
    "While working with python tuples, we can have a problem in which we need to perform concatenation of records from the similarilty \n",
    "of initial elements. THis problem can have applications in data domains such as Data Science "
   ]
  },
  {
   "cell_type": "code",
   "execution_count": 2,
   "id": "bc033c6b-8eb8-48d8-b82d-8c7c20a10472",
   "metadata": {},
   "outputs": [
    {
     "name": "stdout",
     "output_type": "stream",
     "text": [
      "Initially the list is : [(5, 6), (5, 7), (5, 8), (6, 10), (7, 13)]\n",
      "Joined list : [(5, 6, 7, 8), (6, 10), (7, 13)]\n"
     ]
    }
   ],
   "source": [
    "myList = [(5, 6), (5, 7), (5, 8), (6, 10), (7, 13)]\n",
    "print(\"Initially the list is : \" + str(myList))\n",
    "\n",
    "joinList = []\n",
    "for val in myList:\t\t\t\t\t\t\t\t\t\t\n",
    "\tif joinList and joinList[-1][0] == val[0]:\t\t\t\n",
    "\t\tjoinList[-1].extend(val[1:])\t\t\t\t\t\t\n",
    "\telse:\n",
    "\t\tjoinList.append([ele for ele in val])\t\n",
    "joinList = list(map(tuple, joinList))\n",
    "\n",
    "print(\"Joined list : \" + str(joinList))"
   ]
  },
  {
   "cell_type": "markdown",
   "id": "0bfdb338-efd1-4968-85e4-31305d369a12",
   "metadata": {},
   "source": [
    " # Q2. Multiply Adjacent elements (both side)and taken sum of right and lest side multiplication result."
   ]
  },
  {
   "cell_type": "code",
   "execution_count": 4,
   "id": "a344558d-53a1-40a2-adac-c957ff483dbf",
   "metadata": {},
   "outputs": [
    {
     "name": "stdout",
     "output_type": "stream",
     "text": [
      "The Original tuple:(1, 5, 7, 8, 10)\n",
      "Resultant tuple after multiplicatio:(5, 35, 56, 80)\n"
     ]
    }
   ],
   "source": [
    "test_tup=(1,5,7,8,10)\n",
    "\n",
    "print (\"The Original tuple:\"+str(test_tup))\n",
    "\n",
    "res= tuple (i*j for i, j in zip(test_tup, test_tup[1:]))\n",
    "\n",
    "print (\"Resultant tuple after multiplicatio:\"+str(res))"
   ]
  },
  {
   "cell_type": "markdown",
   "id": "687e7ab6-0610-470e-aa82-420dbedb76e4",
   "metadata": {},
   "source": [
    " # Q3. Check is tuple are same or not?\n",
    "Two tuples would be same if both tuples have same elements at same index"
   ]
  },
  {
   "cell_type": "code",
   "execution_count": 10,
   "id": "89614f44-0dec-4d9c-8095-ee223051f846",
   "metadata": {},
   "outputs": [
    {
     "name": "stdout",
     "output_type": "stream",
     "text": [
      "The original list 1 : (1, 2, 3, 4, 5)\n",
      "The original list 2 : (1, 2, 3, 4, 5)\n",
      "Is tuples are same or not ? : True\n"
     ]
    }
   ],
   "source": [
    "t1 = (1,2,3,4,5)\n",
    "\n",
    "t2 = (1,2,3,4,5)  \n",
    " \n",
    "\n",
    "print(\"The original list 1 : \" + str(t1)) \n",
    "\n",
    "print(\"The original list 2 : \" + str(t2)) \n",
    " \n",
    "res = t1 == t2 \n",
    "print(\"Is tuples are same or not ? : \" + str(res))"
   ]
  },
  {
   "cell_type": "markdown",
   "id": "a1d46f13-c975-42b0-a114-0539c11afb8d",
   "metadata": {},
   "source": [
    "# Q4. Count no. of tuples, list and set from list.\n",
    "list1=[{'hi','bye'},{'How are you', 'good'},('Arun', 'karan'),[1,2,3],[4,5,6]]"
   ]
  },
  {
   "cell_type": "code",
   "execution_count": 17,
   "id": "573c3b77-6175-421d-9082-1f5d6c0e2c03",
   "metadata": {},
   "outputs": [
    {
     "name": "stdout",
     "output_type": "stream",
     "text": [
      "List-2\n",
      "Set-2\n",
      "Tuples-1\n"
     ]
    }
   ],
   "source": [
    "list1 = [{'hi','bye'},{'How are you', 'good'},('Arun', 'karan'),[1,2,3],[4,5,6]]\n",
    "tuple_count = 0\n",
    "list_count = 0\n",
    "set_count = 0\n",
    "\n",
    "for item in list1:\n",
    "    if isinstance(item, tuple):\n",
    "        tuple_count += 1\n",
    "    elif isinstance(item, list):\n",
    "        list_count += 1\n",
    "    elif isinstance(item, set):\n",
    "        set_count += 1\n",
    "        \n",
    "print(f\"List-{list_count}\")\n",
    "print(f\"Set-{set_count}\")\n",
    "print(f\"Tuples-{tuple_count}\")"
   ]
  },
  {
   "cell_type": "markdown",
   "id": "f81bc06d-100c-4951-a30c-2f80ab2026d0",
   "metadata": {},
   "source": [
    " # Q5. Shortlist Students for a job role.\n",
    "Ask user to input students record and store in tuples for each record. Then Ask user to input three things he wants in the candidate-\n",
    "Primary Skill, Higher Education, Year of Graduation.Show every students record in form of tuples if matches all required criteria.\n",
    "It is assumed that there will be only one primry skill.If no such candidate found, print No such candidate.\n",
    "\n",
    "Input :\n",
    "Enter No of records- 2\n",
    "Enter Details of student-1\n",
    "Enter Student name- Manohar\n",
    "Enter Higher Education- B.Tech\n",
    "Enter Primary Skill- Python\n",
    "Enter Year of Graduation- 2022\n",
    "Enter Details of student-2\n",
    "Enter Student name- Ponian\n",
    "Enter Higher Education- B.Sc.\n",
    "Enter Primary Skill- C++\n",
    "Enter Year of Graduation- 2020\n",
    "\n",
    "Enter Job Role Requirement\n",
    "Enter Skill- Python\n",
    "Enter Higher Education- B.Tech\n",
    "Enter Year of Graduation- 2   "
   ]
  },
  {
   "cell_type": "code",
   "execution_count": 3,
   "id": "81e79dc6-9651-4178-a163-9f1a9dcdf20c",
   "metadata": {},
   "outputs": [
    {
     "name": "stdin",
     "output_type": "stream",
     "text": [
      "Enter No of records:  2\n"
     ]
    },
    {
     "name": "stdout",
     "output_type": "stream",
     "text": [
      "Enter Details of student-1\n"
     ]
    },
    {
     "name": "stdin",
     "output_type": "stream",
     "text": [
      "Enter Student name:  Samiksha\n",
      "Enter Higher Education:  BCS\n",
      "Enter Primary Skill:  Python Programming\n",
      "Enter Year of Graduation:  2024\n"
     ]
    },
    {
     "name": "stdout",
     "output_type": "stream",
     "text": [
      "Enter Details of student-2\n"
     ]
    },
    {
     "name": "stdin",
     "output_type": "stream",
     "text": [
      "Enter Student name:  Arun\n",
      "Enter Higher Education:  BCA\n",
      "Enter Primary Skill:  Data Science\n",
      "Enter Year of Graduation:  2023\n"
     ]
    },
    {
     "name": "stdout",
     "output_type": "stream",
     "text": [
      "\n",
      "Enter Job Role Requirement\n"
     ]
    },
    {
     "name": "stdin",
     "output_type": "stream",
     "text": [
      "Enter Skill:  Python Programming\n",
      "Enter Higher Education:  BCS\n",
      "Enter Year of Graduation:  2024\n"
     ]
    },
    {
     "name": "stdout",
     "output_type": "stream",
     "text": [
      "('Samiksha', 'BCS', 'Python Programming', '2024')\n"
     ]
    }
   ],
   "source": [
    "def shortlist_students(records, skill_required, education_required, graduation_year_required):\n",
    "    shortlisted = []\n",
    "    for record in records:\n",
    "        name, education, skill, graduation_year = record\n",
    "        if skill == skill_required and education == education_required and graduation_year == graduation_year_required:\n",
    "            shortlisted.append(record)\n",
    "    return shortlisted if shortlisted else [\"No such candidate\"]\n",
    "\n",
    "num_records = int(input(\"Enter No of records: \"))\n",
    "records = []\n",
    "\n",
    "\n",
    "for i in range(1, num_records + 1):\n",
    "    print(f\"Enter Details of student-{i}\")\n",
    "    name = input(\"Enter Student name: \")\n",
    "    education = input(\"Enter Higher Education: \")\n",
    "    skill = input(\"Enter Primary Skill: \")\n",
    "    graduation_year = input(\"Enter Year of Graduation: \")\n",
    "    records.append((name, education, skill, graduation_year))\n",
    "\n",
    "print(\"\\nEnter Job Role Requirement\")\n",
    "skill_required = input(\"Enter Skill: \")\n",
    "education_required = input(\"Enter Higher Education: \")\n",
    "graduation_year_required = input(\"Enter Year of Graduation: \")\n",
    "\n",
    "shortlisted_candidates = shortlist_students(records, skill_required, education_required, graduation_year_required)\n",
    "\n",
    "for candidate in shortlisted_candidates:\n",
    "    print(candidate)"
   ]
  },
  {
   "cell_type": "markdown",
   "id": "34a3a143-ee25-4da8-9aad-dd2c899072b3",
   "metadata": {},
   "source": [
    "# Set "
   ]
  },
  {
   "cell_type": "markdown",
   "id": "68ed8ce5-9fba-4c74-aa3e-a67adffed32a",
   "metadata": {},
   "source": [
    "# Q1. Write a program to find a set of common elements in three lists using sets.\n",
    "\n",
    "Input: ar1=[1,5,10,20,40,80]\n",
    "       ar2=[6,7,20,80,100]\n",
    "       ar3=[3,4,15,20,30,70,80,120]"
   ]
  },
  {
   "cell_type": "code",
   "execution_count": 24,
   "id": "6dfa51a4-e2d9-4df2-a010-c701f94ce09d",
   "metadata": {},
   "outputs": [
    {
     "name": "stdout",
     "output_type": "stream",
     "text": [
      "Common elements: [80, 20]\n"
     ]
    }
   ],
   "source": [
    "def find_common_elements(ar1, ar2, ar3):\n",
    "    \n",
    "    set1 = set(ar1)\n",
    "    set2 = set(ar2)\n",
    "    set3 = set(ar3)\n",
    "    \n",
    "    common_elements = set1.intersection(set2, set3)\n",
    "    \n",
    "    result = list(common_elements)\n",
    "    \n",
    "    return result\n",
    "ar1 = [1, 5, 10, 20, 40, 80]\n",
    "ar2 = [6, 7, 20, 80, 100]\n",
    "ar3 = [3, 4, 15, 20, 30, 70, 80, 120]\n",
    "\n",
    "common_elements = find_common_elements(ar1, ar2, ar3)\n",
    "print(\"Common elements:\", common_elements)"
   ]
  },
  {
   "cell_type": "markdown",
   "id": "bcfeab8d-2ba6-41c1-8855-f1ae096e9fbc",
   "metadata": {},
   "source": [
    " # Q2. Write a program to count unique number of vowels using sets in a given string. Lowercase and upercase vowels will be taken as different.\n",
    "Input: Str1 = \"hands-on data science mentorship pro"
   ]
  },
  {
   "cell_type": "code",
   "execution_count": 25,
   "id": "0404238e-b192-4fb2-8d4d-5b365d07a3b7",
   "metadata": {},
   "outputs": [
    {
     "name": "stdout",
     "output_type": "stream",
     "text": [
      "Number of unique vowels: 4\n"
     ]
    }
   ],
   "source": [
    "def count_unique_vowels(input_str):\n",
    "    vowels = {'a', 'e', 'i', 'o', 'u', 'A', 'E', 'I', 'O', 'U'}  # Set of vowels including both cases\n",
    "    \n",
    "    unique_vowels = set()\n",
    "    \n",
    "    for char in input_str:\n",
    "        if char in vowels:\n",
    "            unique_vowels.add(char)\n",
    "    \n",
    "    return len(unique_vowels)\n",
    "\n",
    "Str1 = \"hands-on data science mentorship pro\"\n",
    "unique_vowels_count = count_unique_vowels(Str1)\n",
    "print(\"Number of unique vowels:\", unique_vowels_count)"
   ]
  },
  {
   "cell_type": "markdown",
   "id": "8fcc713e-aad0-4a0b-a96e-96c90900eabb",
   "metadata": {},
   "source": [
    " # Q3.Write a program to Check if a given string is binary string of or not.\n",
    "A string is said to be binary if it's consists of only two unique characters.\n",
    "Take string input from user.\n",
    "Input: str = \"01010101010\""
   ]
  },
  {
   "cell_type": "code",
   "execution_count": 1,
   "id": "e00d91ce-a940-46d7-95db-c55dea008389",
   "metadata": {},
   "outputs": [
    {
     "name": "stdin",
     "output_type": "stream",
     "text": [
      "Enter a string to check if it's a binary string:  010101010101\n"
     ]
    },
    {
     "name": "stdout",
     "output_type": "stream",
     "text": [
      "Yes, the string is a binary string.\n"
     ]
    }
   ],
   "source": [
    "def is_binary_string(input_str):\n",
    "    \n",
    "    unique_chars = set(input_str)\n",
    "    \n",
    "    if len(unique_chars) == 2:\n",
    "        return True\n",
    "    else:\n",
    "        return False\n",
    "\n",
    "input_str = input(\"Enter a string to check if it's a binary string: \")\n",
    "\n",
    "if is_binary_string(input_str):\n",
    "    print(\"Yes, the string is a binary string.\")\n",
    "else:\n",
    "    print(\"No, the string is not a binary string.\")"
   ]
  },
  {
   "cell_type": "markdown",
   "id": "82e190f1-0310-4c4c-81a9-73c3344f404c",
   "metadata": {},
   "source": [
    " # Q4. Find Union of n Arrays.\n",
    "Input: [[1,2,2,4,3,6], [5,1,3,4], [9,5,7,1], [2,1,4,3]]\n",
    "\n"
   ]
  },
  {
   "cell_type": "code",
   "execution_count": 3,
   "id": "f0a608c1-47d1-4d35-94a5-9c4eab6bcb98",
   "metadata": {},
   "outputs": [
    {
     "name": "stdout",
     "output_type": "stream",
     "text": [
      "Union of arrays: [1, 2, 3, 4, 5, 6, 7, 9]\n"
     ]
    }
   ],
   "source": [
    "def find_union(arrays):\n",
    "    union_set = set()\n",
    "    \n",
    "    for array in arrays:\n",
    "        union_set.update(array)\n",
    "    \n",
    "    union_list = sorted(list(union_set))\n",
    "    return union_list\n",
    "\n",
    "arrays = [\n",
    "    [1, 2, 2, 4, 3, 6],\n",
    "    [5, 1, 3, 4],\n",
    "    [9, 5, 7, 1],\n",
    "    [2, 4, 1, 3]\n",
    "]\n",
    "\n",
    "union_result = find_union(arrays)\n",
    "print(\"Union of arrays:\", union_result)"
   ]
  },
  {
   "cell_type": "markdown",
   "id": "10f9c2e7-b0d8-433b-aece-5d7cddc549ad",
   "metadata": {},
   "source": [
    " # Q5. Intersection of two lists. Intersection of two list means we need to take all those elements which are common to both of the initial lists and store them into another list. Only use using list-comprehension.\n",
    "Input:\n",
    "lst1 = {15, 9, 10, 56, 23, 78, 5, 4, 9}\n",
    "lst2 = {9, 4, 5, 36, 47, 26, 10, 45, 87}"
   ]
  },
  {
   "cell_type": "code",
   "execution_count": 4,
   "id": "557fa25c-a73a-47f0-b5a2-20c9b38faf11",
   "metadata": {},
   "outputs": [
    {
     "name": "stdout",
     "output_type": "stream",
     "text": [
      "[9, 10, 5, 4, 9]\n"
     ]
    }
   ],
   "source": [
    "lst1 = [15, 9, 10, 56, 23, 78, 5, 4, 9]\n",
    "lst2 = [9, 4, 5, 36, 47, 26, 10, 45, 87]\n",
    "\n",
    "intersection = [item for item in lst1 if item in lst2]\n",
    "\n",
    "print(intersection)"
   ]
  },
  {
   "cell_type": "markdown",
   "id": "1f7bcd84-ea66-483f-9a6b-0f99963dd6ba",
   "metadata": {},
   "source": [
    " # DICTIONARY"
   ]
  },
  {
   "cell_type": "markdown",
   "id": "25ad5eda-d5c3-468f-88d8-6167c60b6b8a",
   "metadata": {},
   "source": [
    "# Q1. Key with maximum unique values\n",
    "Given a dictionary with values list, extract key whose value has most unique values.\n",
    "Input : test_ dict= {\"CampusX\": [5,7,9,4,0], \"is\": [6,7,4,3,3],\" Best\": [9,9,6,5,5]}"
   ]
  },
  {
   "cell_type": "code",
   "execution_count": 6,
   "id": "3b117872-1bc6-439b-aa24-deb4791b059f",
   "metadata": {},
   "outputs": [
    {
     "name": "stdout",
     "output_type": "stream",
     "text": [
      "CampusX\n"
     ]
    }
   ],
   "source": [
    "test_dict = {\"CampusX\": [5, 7, 9, 4, 0], \"is\": [6, 7, 4, 3, 3], \"Best\": [9, 9, 6, 5, 5]}\n",
    "\n",
    "max_unique_key = max(test_dict, key=lambda k: len(set(test_dict[k])))\n",
    "\n",
    "print(max_unique_key)"
   ]
  },
  {
   "cell_type": "code",
   "execution_count": 7,
   "id": "b7137a30-4787-457b-b5c5-e6ae821c8f93",
   "metadata": {},
   "outputs": [
    {
     "name": "stdout",
     "output_type": "stream",
     "text": [
      "Best\n"
     ]
    }
   ],
   "source": [
    "test_dict = {\"CampusX\": [5, 7, 7,7, 7], \"is\": [6, 7, 7, 7], \"Best\": [9, 9, 6, 5, 5]}\n",
    "\n",
    "max_unique_key = max(test_dict, key=lambda k: len(set(test_dict[k])))\n",
    "\n",
    "print(max_unique_key)"
   ]
  },
  {
   "cell_type": "markdown",
   "id": "d0548894-a2e2-4747-95cb-0816bfb25dff",
   "metadata": {},
   "source": [
    " # Q2. Replace words from Dictionary. Given String, replace it’s words from lookup dictionary.\n",
    "Input:\n",
    "\n",
    "test_str = 'CampusX best for DS students.'\n",
    "repl_dict = {\"best\" : \"is the best channel\", \"DS\" : \"Data-Science\"}"
   ]
  },
  {
   "cell_type": "code",
   "execution_count": 8,
   "id": "48ddeb11-7a54-4755-adb8-bb061900e23f",
   "metadata": {},
   "outputs": [
    {
     "name": "stdout",
     "output_type": "stream",
     "text": [
      "CampusX is the best channel for Data-Science students.\n"
     ]
    }
   ],
   "source": [
    "test_str = 'CampusX best for DS students.'\n",
    "repl_dict = {\"best\": \"is the best channel\", \"DS\": \"Data-Science\"}\n",
    "\n",
    "words = test_str.split()\n",
    "\n",
    "replaced_words = [repl_dict.get(word, word) for word in words]\n",
    "\n",
    "result_str = ' '.join(replaced_words)\n",
    "\n",
    "print(result_str)"
   ]
  },
  {
   "cell_type": "code",
   "execution_count": 10,
   "id": "c8caae9f-cac2-4b7b-8fb0-1b81731bc1f9",
   "metadata": {},
   "outputs": [
    {
     "name": "stdout",
     "output_type": "stream",
     "text": [
      "CampusX good for Data-Science students.\n"
     ]
    }
   ],
   "source": [
    "test_str = 'CampusX good for DS students.'\n",
    "repl_dict = {\"Good\": \"is the best channel\", \"DS\": \"Data-Science\"}\n",
    "\n",
    "words = test_str.split()\n",
    "\n",
    "replaced_words = [repl_dict.get(word, word) for word in words]\n",
    "\n",
    "result_str = ' '.join(replaced_words)\n",
    "\n",
    "print(result_str)"
   ]
  },
  {
   "cell_type": "markdown",
   "id": "adb4462a-c20a-4222-b1fa-28795e902c6b",
   "metadata": {},
   "source": [
    "# Q3.  Convert List to List of dictionaries. Given list values and keys list, convert these values to key value pairs in form of list of dictionaries.\n",
    "Input:\n",
    "test_list = [\"DataScience\", 3, \"is\", 8]\n",
    "key_list = [\"name\", \"id\"]"
   ]
  },
  {
   "cell_type": "code",
   "execution_count": 11,
   "id": "118a2fcb-c6bb-4251-993a-e4a366ead042",
   "metadata": {},
   "outputs": [
    {
     "name": "stdout",
     "output_type": "stream",
     "text": [
      "[{'name': 'DataScience', 'id': 3}, {'name': 'is', 'id': 8}]\n"
     ]
    }
   ],
   "source": [
    "test_list = [\"DataScience\", 3, \"is\", 8]\n",
    "key_list = [\"name\", \"id\"]\n",
    "\n",
    "result = [{key_list[0]: test_list[i], key_list[1]: test_list[i + 1]} for i in range(0, len(test_list), 2)]\n",
    "\n",
    "print(result)"
   ]
  },
  {
   "cell_type": "markdown",
   "id": "52968583-f3bc-44dd-8d8a-28c96b542e29",
   "metadata": {},
   "source": [
    "# Q4. Convert a list of Tuples into Dictionary.\n",
    "Input:\n",
    "[(\"akash\", 10), (\"gaurav\", 12), (\"anand\", 14), (\"suraj\", 20), (\"akhil\", 25), (\"ashish\", 30)]"
   ]
  },
  {
   "cell_type": "code",
   "execution_count": 12,
   "id": "3de01be7-3e89-444d-a5d7-a74edb8cd0ff",
   "metadata": {},
   "outputs": [
    {
     "name": "stdout",
     "output_type": "stream",
     "text": [
      "{'akash': [10], 'gaurav': [12], 'anand': [14], 'suraj': [20], 'akhil': [25], 'ashish': [30]}\n"
     ]
    }
   ],
   "source": [
    "input_list = [(\"akash\", 10), (\"gaurav\", 12), (\"anand\", 14), (\"suraj\", 20), (\"akhil\", 25), (\"ashish\", 30)]\n",
    "\n",
    "output_dict = {key: [value] for key, value in input_list}\n",
    "\n",
    "print(output_dict)"
   ]
  },
  {
   "cell_type": "markdown",
   "id": "4d7e9379-f82a-46aa-9838-6f1525e6a7c1",
   "metadata": {},
   "source": [
    "# Q5.  Sort Dictionary key and values List.\n",
    "Input:\n",
    "{'c': [3], 'b': [12, 10], 'a': [19, 4]}"
   ]
  },
  {
   "cell_type": "code",
   "execution_count": 14,
   "id": "b72f7cd2-e350-4846-8ba9-0761c74dd184",
   "metadata": {},
   "outputs": [
    {
     "name": "stdout",
     "output_type": "stream",
     "text": [
      "{'a': [4, 19], 'b': [10, 12], 'c': [3]}\n"
     ]
    }
   ],
   "source": [
    "input_dict = {'c': [3], 'b': [12, 10], 'a': [19, 4]}\n",
    "              \n",
    "sorted_dict = {key: sorted(values) for key, values in sorted(input_dict.items())}\n",
    "\n",
    "print(sorted_dict)"
   ]
  },
  {
   "cell_type": "code",
   "execution_count": null,
   "id": "3288f958-f5fe-4feb-8f9d-a996a6243d1c",
   "metadata": {},
   "outputs": [],
   "source": []
  }
 ],
 "metadata": {
  "kernelspec": {
   "display_name": "Python 3 (ipykernel)",
   "language": "python",
   "name": "python3"
  },
  "language_info": {
   "codemirror_mode": {
    "name": "ipython",
    "version": 3
   },
   "file_extension": ".py",
   "mimetype": "text/x-python",
   "name": "python",
   "nbconvert_exporter": "python",
   "pygments_lexer": "ipython3",
   "version": "3.11.7"
  }
 },
 "nbformat": 4,
 "nbformat_minor": 5
}
