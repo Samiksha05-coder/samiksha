{
 "cells": [
  {
   "cell_type": "markdown",
   "id": "00f6a8d3-32c8-4484-9c31-5450d1349bf2",
   "metadata": {},
   "source": [
    "# Q1. Write a program that will give you in hand monthly salary after deduction on CTC - HRA(10%), DA(5%), PF(3%) and taxes deduction as below:\n",
    "       Salary(Lakhs) : Tax(%)\n",
    "       Below 5 : 0%\n",
    "       5-10 : 10%\n",
    "       10-20 : 20%\n",
    "       above 20 : 30%"
   ]
  },
  {
   "cell_type": "code",
   "execution_count": 1,
   "id": "748fbff8-fc80-4766-81b1-0cd33d574d08",
   "metadata": {},
   "outputs": [
    {
     "name": "stdout",
     "output_type": "stream",
     "text": [
      "Monthly salary after deductions: ₹119583.33\n"
     ]
    }
   ],
   "source": [
    "def calculate_monthly_salary(ctc):\n",
    " \n",
    "    hra_rate = 0.10  # 10%\n",
    "    da_rate = 0.05   # 5%\n",
    "    pf_rate = 0.03   # 3%\n",
    "\n",
    "\n",
    "    hra_deduction = ctc * hra_rate\n",
    "    da_deduction = ctc * da_rate\n",
    "    pf_deduction = ctc * pf_rate\n",
    "    total_deductions = hra_deduction + da_deduction + pf_deduction\n",
    "\n",
    "    \n",
    "    taxable_income = ctc - total_deductions\n",
    "\n",
    "\n",
    "    if taxable_income < 5:\n",
    "        tax_percentage = 0\n",
    "    elif 5 <= taxable_income < 10:\n",
    "        tax_percentage = 10\n",
    "    elif 10 <= taxable_income < 20:\n",
    "        tax_percentage = 20\n",
    "    else:\n",
    "        tax_percentage = 30\n",
    "\n",
    "\n",
    "    tax_amount = taxable_income * (tax_percentage / 100)\n",
    "\n",
    "    \n",
    "    monthly_salary = (ctc - total_deductions - tax_amount) / 12\n",
    "\n",
    "    return monthly_salary\n",
    "\n",
    "ctc = 2500000 \n",
    "monthly_salary = calculate_monthly_salary(ctc)\n",
    "\n",
    "print(f\"Monthly salary after deductions: ₹{monthly_salary:.2f}\")"
   ]
  },
  {
   "cell_type": "markdown",
   "id": "ed047918-43e5-4faf-af2d-aaf00e948287",
   "metadata": {},
   "source": [
    "# Q2. Write a program that take a user input of three angles and will find out whether it can form a triangle or not."
   ]
  },
  {
   "cell_type": "code",
   "execution_count": 38,
   "id": "df1664dd-ab25-417b-b01d-6fef604a1114",
   "metadata": {},
   "outputs": [
    {
     "name": "stdin",
     "output_type": "stream",
     "text": [
      "Enter the first angle:  4\n",
      "Enter the second angle:  7\n",
      "Enter the third angle:  8\n"
     ]
    },
    {
     "name": "stdout",
     "output_type": "stream",
     "text": [
      "The angles cannot form a triangle.\n"
     ]
    }
   ],
   "source": [
    "def can_form_triangle(angle1, angle2, angle3):\n",
    "    # Check if the sum of angles is equal to 180 degrees\n",
    "    if angle1 + angle2 + angle3 == 180:\n",
    "        return True\n",
    "    else:\n",
    "        return False\n",
    "\n",
    "# Function to validate user input as integer within valid angle range (0 to 180)\n",
    "def get_valid_angle(prompt):\n",
    "    while True:\n",
    "        try:\n",
    "            angle = int(input(prompt))\n",
    "            if 0 <= angle <= 180:\n",
    "                return angle\n",
    "            else:\n",
    "                print(\"Angle must be between 0 and 180 degrees. Try again.\")\n",
    "        except ValueError:\n",
    "            print(\"Invalid input. Please enter a valid integer.\")\n",
    "\n",
    "# Get user input for three angles\n",
    "angle1 = get_valid_angle(\"Enter the first angle: \")\n",
    "angle2 = get_valid_angle(\"Enter the second angle: \")\n",
    "angle3 = get_valid_angle(\"Enter the third angle: \")\n",
    "\n",
    "# Check if the angles can form a triangle\n",
    "if can_form_triangle(angle1, angle2, angle3):\n",
    "    print(\"The angles can form a triangle.\")\n",
    "else:\n",
    "    print(\"The angles cannot form a triangle.\")"
   ]
  },
  {
   "cell_type": "markdown",
   "id": "96a4bac8-cbf7-49a1-b673-67f44f84ab5d",
   "metadata": {},
   "source": [
    "# Q3. Write a program that will take user input of cost price and selling price and determines whether its a loss or a profit."
   ]
  },
  {
   "cell_type": "code",
   "execution_count": null,
   "id": "c7c88e4a-51d6-4f80-a362-93febd415c7c",
   "metadata": {},
   "outputs": [
    {
     "name": "stdin",
     "output_type": "stream",
     "text": [
      "Enter the cost price: $ 2500\n",
      "Enter the selling price: $ 3000\n"
     ]
    }
   ],
   "source": [
    "def calculate_profit_or_loss(cost_price, selling_price):\n",
    "    if selling_price > cost_price:\n",
    "        profit = selling_price - cost_price\n",
    "        print(f\"Profit of ${profit:.2f}\")\n",
    "    elif selling_price < cost_price:\n",
    "        loss = cost_price - selling_price\n",
    "        print(f\"Loss of ${loss:.2f}\")\n",
    "    else:\n",
    "        print(\"No profit, no loss\")\n",
    "\n",
    "cost_price = float(input(\"Enter the cost price: $\"))\n",
    "selling_price = float(input(\"Enter the selling price: $\"))\n",
    "\n",
    "calculate_profit_or_loss(cost_price, selling_price)"
   ]
  },
  {
   "cell_type": "markdown",
   "id": "470d6baa-83b9-4447-9595-faf70d2771a9",
   "metadata": {},
   "source": [
    "# Q4. Write a menu-driven program -\n",
    "      1.cm to ft\n",
    "      2.km to miles\n",
    "      3.USD to INR\n",
    "      4.exit"
   ]
  },
  {
   "cell_type": "code",
   "execution_count": 13,
   "id": "a65acf1e-7cea-4d3c-9593-e6efff4787f8",
   "metadata": {},
   "outputs": [
    {
     "name": "stdout",
     "output_type": "stream",
     "text": [
      "\n",
      "Menu:\n",
      "1. cm to ft\n",
      "2. km to miles\n",
      "3. USD to INR\n",
      "4. Exit\n"
     ]
    },
    {
     "name": "stdin",
     "output_type": "stream",
     "text": [
      "Enter your choice:  1\n",
      "Enter value in cm:  23\n"
     ]
    },
    {
     "name": "stdout",
     "output_type": "stream",
     "text": [
      "23.0 cm is equal to 0.7545931758530183 feet.\n",
      "\n",
      "Menu:\n",
      "1. cm to ft\n",
      "2. km to miles\n",
      "3. USD to INR\n",
      "4. Exit\n"
     ]
    },
    {
     "name": "stdin",
     "output_type": "stream",
     "text": [
      "Enter your choice:  4\n"
     ]
    },
    {
     "name": "stdout",
     "output_type": "stream",
     "text": [
      "Exiting the program.\n"
     ]
    }
   ],
   "source": [
    "def cm_to_ft(cm):\n",
    "    return cm / 30.48\n",
    "\n",
    "def km_to_miles(km):\n",
    "    return km * 0.621371\n",
    "\n",
    "def usd_to_inr(usd):\n",
    "    # Assuming a static conversion rate, for example: 1 USD = 74.5 INR\n",
    "    conversion_rate = 74.5\n",
    "    return usd * conversion_rate\n",
    "\n",
    "def main():\n",
    "    while True:\n",
    "        print(\"\\nMenu:\")\n",
    "        print(\"1. cm to ft\")\n",
    "        print(\"2. km to miles\")\n",
    "        print(\"3. USD to INR\")\n",
    "        print(\"4. Exit\")\n",
    "        \n",
    "        choice = int(input(\"Enter your choice: \"))\n",
    "        \n",
    "        if choice == 1:\n",
    "            cm = float(input(\"Enter value in cm: \"))\n",
    "            print(f\"{cm} cm is equal to {cm_to_ft(cm)} feet.\")\n",
    "        elif choice == 2:\n",
    "            km = float(input(\"Enter value in km: \"))\n",
    "            print(f\"{km} km is equal to {km_to_miles(km)} miles.\")\n",
    "        elif choice == 3:\n",
    "            usd = float(input(\"Enter value in USD: \"))\n",
    "            print(f\"{usd} USD is equal to {usd_to_inr(usd)} INR.\")\n",
    "        elif choice == 4:\n",
    "            print(\"Exiting the program.\")\n",
    "            break\n",
    "        else:\n",
    "            print(\"Invalid choice, please try again.\")\n",
    "\n",
    "if __name__ == \"__main__\":\n",
    "    main()"
   ]
  },
  {
   "cell_type": "markdown",
   "id": "74e71a10-f486-47c2-9d49-d199610795dd",
   "metadata": {},
   "source": [
    "# Q5. Display Fibonacci series up to 10 terms.\n",
    "Note: The Fibonacci Sequence is a series of numbers. The next number is found by adding up the two numbers before it.\n",
    "The first two numbers are 0 and 1. For example, 0, 1, 1, 2, 3, 5, 8, 13, 21. The next number in this series above is 13+21 = 34"
   ]
  },
  {
   "cell_type": "code",
   "execution_count": 12,
   "id": "6620a80f-c169-4ac1-a98a-968f0f5c876e",
   "metadata": {},
   "outputs": [
    {
     "name": "stdout",
     "output_type": "stream",
     "text": [
      "Fibonacci series up to 10 terms:\n",
      "0 1 1 2 3 5 8 13 21 34 "
     ]
    }
   ],
   "source": [
    "def fibonacci(n):\n",
    "    fib_series = []\n",
    "    a, b = 0, 1\n",
    "    for _ in range(n):\n",
    "        fib_series.append(a)\n",
    "        a, b = b, a + b\n",
    "    return fib_series\n",
    "\n",
    "def main():\n",
    "    terms = 10\n",
    "    fib_series = fibonacci(terms)\n",
    "    print(f\"Fibonacci series up to {terms} terms:\")\n",
    "    for num in fib_series:\n",
    "        print(num, end=\" \")\n",
    "\n",
    "if __name__ == \"__main__\":\n",
    "    main()"
   ]
  },
  {
   "cell_type": "markdown",
   "id": "ffce3d2e-fbf7-4139-b099-a3100ff414ea",
   "metadata": {},
   "source": [
    "# Q6. Find the factorial of a given number.\n",
    "Write a program to use the loop to find the factorial of a given number.\n",
    "The factorial (symbol: !) means to multiply all whole numbers from the chosen number down to 1.\n",
    "For example: calculate the factorial of 5"
   ]
  },
  {
   "cell_type": "code",
   "execution_count": 15,
   "id": "3ef6a698-26e3-4298-ad08-c7da03df8464",
   "metadata": {},
   "outputs": [
    {
     "name": "stdin",
     "output_type": "stream",
     "text": [
      "Enter a number to find its factorial:  5\n"
     ]
    },
    {
     "name": "stdout",
     "output_type": "stream",
     "text": [
      "The factorial of 5 is 120.\n"
     ]
    }
   ],
   "source": [
    "def factorial(n):\n",
    "    result = 1\n",
    "    for i in range(1, n + 1):\n",
    "        result *= i\n",
    "    return result\n",
    "\n",
    "def main():\n",
    "    num = int(input(\"Enter a number to find its factorial: \"))\n",
    "    if num < 0:\n",
    "        print(\"Factorial is not defined for negative numbers.\")\n",
    "    else:\n",
    "        print(f\"The factorial of {num} is {factorial(num)}.\")\n",
    "\n",
    "if __name__ == \"__main__\":\n",
    "    main()"
   ]
  },
  {
   "cell_type": "markdown",
   "id": "3438ee4f-0bda-426a-86e2-8cd0f8ff4e3d",
   "metadata": {},
   "source": [
    "# Q7.  Reverse a given integer number.\n"
   ]
  },
  {
   "cell_type": "code",
   "execution_count": 17,
   "id": "29e85c1f-75c0-44d9-ae1d-fb10a8e77db2",
   "metadata": {},
   "outputs": [
    {
     "data": {
      "text/plain": [
       "[2, 4, 5, 6, 7]"
      ]
     },
     "execution_count": 17,
     "metadata": {},
     "output_type": "execute_result"
    }
   ],
   "source": [
    "L = [7,6,5,4,2]\n",
    "L.reverse()      \n",
    "L"
   ]
  },
  {
   "cell_type": "markdown",
   "id": "c10b6a77-a765-473b-8ec5-f8cfcb92befc",
   "metadata": {},
   "source": [
    "# Q8. Take a user input as integer N. Find out the sum from 1 to N. If any number if divisible by 5, then skip that number. And if the sum is greater than 300, don't need to calculate the sum further more. Print the final result. And don't use for loop to solve this problem."
   ]
  },
  {
   "cell_type": "code",
   "execution_count": 20,
   "id": "4b91bd3b-dcad-4bbb-af8d-9cee3bc67f62",
   "metadata": {},
   "outputs": [
    {
     "name": "stdin",
     "output_type": "stream",
     "text": [
      "Enter an integer N:  50\n"
     ]
    },
    {
     "name": "stdout",
     "output_type": "stream",
     "text": [
      "The final result is 303.\n"
     ]
    }
   ],
   "source": [
    "def sum_with_conditions(N):\n",
    "    total_sum = 0\n",
    "    current_number = 1\n",
    "    \n",
    "    while current_number <= N:\n",
    "        if total_sum > 300:\n",
    "            break\n",
    "        if current_number % 5 != 0:\n",
    "            total_sum += current_number\n",
    "        current_number += 1\n",
    "    \n",
    "    return total_sum\n",
    "\n",
    "def main():\n",
    "    N = int(input(\"Enter an integer N: \"))\n",
    "    result = sum_with_conditions(N)\n",
    "    print(f\"The final result is {result}.\")\n",
    "\n",
    "if __name__ == \"__main__\":\n",
    "    main()"
   ]
  },
  {
   "cell_type": "markdown",
   "id": "163df925-2096-4fb8-8201-6b6cc87cfa39",
   "metadata": {},
   "source": [
    "# Q9. Write a program that keeps on accepting a number from the user until the user enters Zero. Display the sum and average of all the numbers.\n"
   ]
  },
  {
   "cell_type": "code",
   "execution_count": 21,
   "id": "327f3e5a-a0e7-4f26-aaf0-6b8d8d668769",
   "metadata": {},
   "outputs": [
    {
     "name": "stdin",
     "output_type": "stream",
     "text": [
      "Enter a number (enter 0 to stop):  1\n",
      "Enter a number (enter 0 to stop):  5\n",
      "Enter a number (enter 0 to stop):  8\n",
      "Enter a number (enter 0 to stop):  0\n"
     ]
    },
    {
     "name": "stdout",
     "output_type": "stream",
     "text": [
      "The sum of all the numbers is 14.0.\n",
      "The average of all the numbers is 4.666666666666667.\n"
     ]
    }
   ],
   "source": [
    "def main():\n",
    "    total_sum = 0\n",
    "    count = 0\n",
    "\n",
    "    while True:\n",
    "        num = float(input(\"Enter a number (enter 0 to stop): \"))\n",
    "        if num == 0:\n",
    "            break\n",
    "        total_sum += num\n",
    "        count += 1\n",
    "\n",
    "    if count == 0:\n",
    "        print(\"No numbers were entered.\")\n",
    "    else:\n",
    "        average = total_sum / count\n",
    "        print(f\"The sum of all the numbers is {total_sum}.\")\n",
    "        print(f\"The average of all the numbers is {average}.\")\n",
    "\n",
    "if __name__ == \"__main__\":\n",
    "    main()"
   ]
  },
  {
   "cell_type": "markdown",
   "id": "b40f30d4-13bc-4624-a814-c04af2370642",
   "metadata": {},
   "source": [
    "# Q10. Write a program which will find all such numbers which are divisible by 7 but are not a multiple of 5, between 2000 and 3200 (both included). The numbers obtained should be printed in a comma-separated sequence on a single line.\n"
   ]
  },
  {
   "cell_type": "code",
   "execution_count": 22,
   "id": "f8facf28-db08-44cb-8df0-23566d5daeb1",
   "metadata": {},
   "outputs": [
    {
     "name": "stdout",
     "output_type": "stream",
     "text": [
      "2002,2009,2016,2023,2037,2044,2051,2058,2072,2079,2086,2093,2107,2114,2121,2128,2142,2149,2156,2163,2177,2184,2191,2198,2212,2219,2226,2233,2247,2254,2261,2268,2282,2289,2296,2303,2317,2324,2331,2338,2352,2359,2366,2373,2387,2394,2401,2408,2422,2429,2436,2443,2457,2464,2471,2478,2492,2499,2506,2513,2527,2534,2541,2548,2562,2569,2576,2583,2597,2604,2611,2618,2632,2639,2646,2653,2667,2674,2681,2688,2702,2709,2716,2723,2737,2744,2751,2758,2772,2779,2786,2793,2807,2814,2821,2828,2842,2849,2856,2863,2877,2884,2891,2898,2912,2919,2926,2933,2947,2954,2961,2968,2982,2989,2996,3003,3017,3024,3031,3038,3052,3059,3066,3073,3087,3094,3101,3108,3122,3129,3136,3143,3157,3164,3171,3178,3192,3199\n"
     ]
    }
   ],
   "source": [
    "def main():\n",
    "    results = []\n",
    "    for num in range(2000, 3201):\n",
    "        if num % 7 == 0 and num % 5 != 0:\n",
    "            results.append(str(num))\n",
    "    print(\",\".join(results))\n",
    "\n",
    "if __name__ == \"__main__\":\n",
    "    main()"
   ]
  },
  {
   "cell_type": "markdown",
   "id": "6ce8dab9-fde9-437e-aa04-36a2efa3412b",
   "metadata": {},
   "source": [
    "# Q11. Write a program, which will find all such numbers between 1000 and 3000 (both included) such that each digit of the number is an even number. The numbers obtained should be printed in a space-separated sequence on a single line."
   ]
  },
  {
   "cell_type": "code",
   "execution_count": 24,
   "id": "1a555559-7726-4b9a-9af6-23ba995009f5",
   "metadata": {},
   "outputs": [
    {
     "name": "stdout",
     "output_type": "stream",
     "text": [
      "2000 2002 2004 2006 2008 2020 2022 2024 2026 2028 2040 2042 2044 2046 2048 2060 2062 2064 2066 2068 2080 2082 2084 2086 2088 2200 2202 2204 2206 2208 2220 2222 2224 2226 2228 2240 2242 2244 2246 2248 2260 2262 2264 2266 2268 2280 2282 2284 2286 2288 2400 2402 2404 2406 2408 2420 2422 2424 2426 2428 2440 2442 2444 2446 2448 2460 2462 2464 2466 2468 2480 2482 2484 2486 2488 2600 2602 2604 2606 2608 2620 2622 2624 2626 2628 2640 2642 2644 2646 2648 2660 2662 2664 2666 2668 2680 2682 2684 2686 2688 2800 2802 2804 2806 2808 2820 2822 2824 2826 2828 2840 2842 2844 2846 2848 2860 2862 2864 2866 2868 2880 2882 2884 2886 2888\n"
     ]
    }
   ],
   "source": [
    "def are_all_digits_even(num):\n",
    "    for digit in str(num):\n",
    "        if int(digit) % 2 != 0:\n",
    "            return False\n",
    "    return True\n",
    "\n",
    "def main():\n",
    "    results = []\n",
    "    for num in range(1000, 3000):\n",
    "        if are_all_digits_even(num):\n",
    "            results.append(str(num))\n",
    "    print(\" \".join(results))\n",
    "\n",
    "if __name__ == \"__main__\":\n",
    "    main()"
   ]
  },
  {
   "cell_type": "markdown",
   "id": "cfb66d9d-6d89-4abd-8aeb-4911594495c6",
   "metadata": {},
   "source": [
    "# Q12.  A robot moves in a plane starting from the original point (0,0). The robot can move toward UP, DOWN, LEFT and RIGHT with a given steps.\n",
    "The trace of robot movement is shown as the following:\r\n",
    "\r\n",
    "UP 5\r\n",
    "DOWN 3\r\n",
    "LEFT 3\r\n",
    "RIGHT 2\r\n",
    "!"
   ]
  },
  {
   "cell_type": "code",
   "execution_count": 28,
   "id": "0f12fefb-4be3-4974-93e5-54dbc89259b8",
   "metadata": {},
   "outputs": [
    {
     "name": "stdout",
     "output_type": "stream",
     "text": [
      "The final distance from the original point is: 1\n"
     ]
    }
   ],
   "source": [
    "import math\n",
    "\n",
    "def compute_distance(movements):\n",
    "    x, y = 0, 0\n",
    "    \n",
    "    for move in movements:\n",
    "        parts = move.split()\n",
    "        \n",
    "        if len(parts) == 1 and parts[0] == '!':\n",
    "            break\n",
    "        \n",
    "        direction = parts[0]\n",
    "        steps = int(parts[1])\n",
    "        \n",
    "        if direction == 'UP':\n",
    "            y += steps\n",
    "        elif direction == 'DOWN':\n",
    "            y -= steps\n",
    "        elif direction == 'LEFT':\n",
    "            x -= steps\n",
    "        elif direction == 'RIGHT':\n",
    "            x += steps\n",
    "    \n",
    "    distance = math.sqrt(x*2 + y*2)\n",
    "    \n",
    "    distance = round(distance)\n",
    "    \n",
    "    return distance\n",
    "\n",
    "def main():\n",
    "    movements = [\n",
    "        \"UP 5\",\n",
    "        \"DOWN 3\",\n",
    "        \"LEFT 3\",\n",
    "        \"RIGHT 2\",\n",
    "        \"!\"\n",
    "    ]\n",
    "    \n",
    "    final_distance = compute_distance(movements)\n",
    "    \n",
    "    print(f\"The final distance from the original point is: {final_distance}\")\n",
    "\n",
    "if __name__ == \"__main__\":\n",
    "    main()"
   ]
  },
  {
   "cell_type": "markdown",
   "id": "40fdb3fd-9347-4d50-accc-94380632e2a1",
   "metadata": {},
   "source": [
    "# Q13. Write a program to print whether a given number is a prime number or not"
   ]
  },
  {
   "cell_type": "code",
   "execution_count": 29,
   "id": "1f4a7ab1-a380-4a88-817d-06395c6c92ad",
   "metadata": {},
   "outputs": [
    {
     "name": "stdin",
     "output_type": "stream",
     "text": [
      "Enter a number to check if it is prime:  7\n"
     ]
    },
    {
     "name": "stdout",
     "output_type": "stream",
     "text": [
      "7 is a prime number.\n"
     ]
    }
   ],
   "source": [
    "import math\n",
    "\n",
    "def is_prime(num):\n",
    "    if num <= 1:\n",
    "        return False\n",
    "    if num == 2:\n",
    "        return True \n",
    "\n",
    "    for i in range(2, int(math.sqrt(num)) + 1):\n",
    "        if num % i == 0:\n",
    "            return False\n",
    "    \n",
    "    return True\n",
    "\n",
    "def main():\n",
    "    num = int(input(\"Enter a number to check if it is prime: \"))\n",
    "    \n",
    "    if is_prime(num):\n",
    "        print(f\"{num} is a prime number.\")\n",
    "    else:\n",
    "        print(f\"{num} is not a prime number.\")\n",
    "\n",
    "if __name__ == \"__main__\":\n",
    "    main()"
   ]
  },
  {
   "cell_type": "markdown",
   "id": "b37e6df2-87d2-44d1-a842-44395bdb7ecb",
   "metadata": {},
   "source": [
    "# Q14. Print all the Armstrong numbers in a given range.\n",
    "Range will be provided by the user\n",
    "Armstrong number is a number that is equal to the sum of cubes of its digits. For example 0, 1, 153, 370, 371 and 407 are the Armstrong numbers."
   ]
  },
  {
   "cell_type": "code",
   "execution_count": 33,
   "id": "49d2c8e2-644d-4959-aa1e-9d710fe83825",
   "metadata": {},
   "outputs": [
    {
     "name": "stdin",
     "output_type": "stream",
     "text": [
      "Enter the starting number of the range:  100\n",
      "Enter the ending number of the range:  1000\n"
     ]
    },
    {
     "name": "stdout",
     "output_type": "stream",
     "text": [
      "Armstrong numbers between 100 and 1000:\n",
      "153, 370, 371, 407\n"
     ]
    }
   ],
   "source": [
    "def is_armstrong(num):\n",
    "    \n",
    "    num_str = str(num)\n",
    "    num_digits = len(num_str)\n",
    "    \n",
    " \n",
    "    sum_of_cubes = sum(int(digit) ** num_digits for digit in num_str)\n",
    "    \n",
    "  \n",
    "    return sum_of_cubes == num\n",
    "\n",
    "def find_armstrong_numbers(start, end):\n",
    "    armstrong_numbers = []\n",
    "    for num in range(start, end + 1):\n",
    "        if is_armstrong(num):\n",
    "            armstrong_numbers.append(num)\n",
    "    return armstrong_numbers\n",
    "\n",
    "def main():\n",
    "    start = int(input(\"Enter the starting number of the range: \"))\n",
    "    end = int(input(\"Enter the ending number of the range: \"))\n",
    "    \n",
    "    if start > end:\n",
    "        print(\"Error: Starting number cannot be greater than ending number.\")\n",
    "        return\n",
    "    \n",
    "    print(f\"Armstrong numbers between {start} and {end}:\")\n",
    "    armstrong_numbers = find_armstrong_numbers(start, end)\n",
    "    \n",
    "    if armstrong_numbers:\n",
    "        print(\", \".join(map(str, armstrong_numbers)))\n",
    "    else:\n",
    "        print(\"No Armstrong numbers found in the specified range.\")\n",
    "\n",
    "if __name__== \"__main__\":\n",
    "    main()"
   ]
  },
  {
   "cell_type": "markdown",
   "id": "3f9304dc-1ebb-4d4f-93a4-94f212630e98",
   "metadata": {},
   "source": [
    "# Q15. Calculate the angle between the hour hand and minute hand.\n",
    "Note: There can be two angles between hands; we need to print a minimum of two. Also, we need to print the floor of the final result angle. For example, if the final angle is 10.61, we need to print 10.\n",
    "Input:\n",
    "H = 9 , M = 0"
   ]
  },
  {
   "cell_type": "code",
   "execution_count": 35,
   "id": "ac45612e-4e3b-4423-9490-c472b5278e52",
   "metadata": {},
   "outputs": [
    {
     "name": "stdin",
     "output_type": "stream",
     "text": [
      "Enter the hour (0-12):  3\n",
      "Enter the minute (0-60):  6\n"
     ]
    },
    {
     "name": "stdout",
     "output_type": "stream",
     "text": [
      "The angle between the hour hand and minute hand is 57 degrees.\n"
     ]
    }
   ],
   "source": [
    "import math\n",
    "\n",
    "def calculate_clock_angle(H, M):\n",
    "    if H < 0 or M < 0 or H > 12 or M > 60:\n",
    "        raise ValueError(\"Invalid input. Hours should be between 0 to 12 and minutes should be between 0 to 60.\")\n",
    "    \n",
    "    if H == 12:\n",
    "        H = 0\n",
    "    if M == 60:\n",
    "        M = 0\n",
    "        \n",
    "    hour_angle = 0.5 * (H * 60 + M)\n",
    "    minute_angle = 6 * M\n",
    "    \n",
    "    angle = abs(hour_angle - minute_angle)\n",
    "    \n",
    "    angle = min(360 - angle, angle)\n",
    "    \n",
    "    angle = math.floor(angle)\n",
    "    \n",
    "    return angle\n",
    "\n",
    "def main():\n",
    "    H = int(input(\"Enter the hour (0-12): \"))\n",
    "    M = int(input(\"Enter the minute (0-60): \"))\n",
    "    \n",
    "    angle = calculate_clock_angle(H, M)\n",
    "    \n",
    "    print(f\"The angle between the hour hand and minute hand is {angle} degrees.\")\n",
    "\n",
    "if __name__== \"__main__\":\n",
    "    main()"
   ]
  },
  {
   "cell_type": "markdown",
   "id": "75c1a9d4-2903-4b41-a1c0-ccdd08a2603d",
   "metadata": {},
   "source": [
    "# Q16. Given two rectangles, find if the given two rectangles overlap or not. A rectangle is denoted by providing the x and y coordinates of two points: the left top corner and the right bottom corner of the rectangle. Two rectangles sharing a side are considered overlapping. (L1 and R1 are the extreme points of the first rectangle and L2 and R2 are the extreme points of the second rectangle)."
   ]
  },
  {
   "cell_type": "code",
   "execution_count": 37,
   "id": "63dda054-5082-4886-aff5-f5f04a538cf7",
   "metadata": {},
   "outputs": [
    {
     "name": "stdout",
     "output_type": "stream",
     "text": [
      "Rectangles do not overlap.\n"
     ]
    }
   ],
   "source": [
    "def rectangles_overlap(L1, R1, L2, R2):\n",
    "  \n",
    "    if L1[0] >= R2[0] or L2[0] >= R1[0]:\n",
    "        return False\n",
    "    \n",
    "    if L1[1] <= R2[1] or L2[1] <= R1[1]:\n",
    "        return False\n",
    "    \n",
    "    return True\n",
    "\n",
    "def main():\n",
    "    \n",
    "    L1 = (2, 10)   \n",
    "    R1 = (10, 2)\n",
    "    L2 = (15, 5)     \n",
    "    R2 = (4, 10)   \n",
    "    if rectangles_overlap(L1, R1, L2, R2):\n",
    "        print(\"Rectangles overlap.\")\n",
    "    else:\n",
    "        print(\"Rectangles do not overlap.\")\n",
    "\n",
    "if __name__ == \"__main__\":\n",
    "    main()"
   ]
  },
  {
   "cell_type": "code",
   "execution_count": null,
   "id": "17617880-3f4f-4d29-9345-108b615bf010",
   "metadata": {},
   "outputs": [],
   "source": []
  }
 ],
 "metadata": {
  "kernelspec": {
   "display_name": "Python 3 (ipykernel)",
   "language": "python",
   "name": "python3"
  },
  "language_info": {
   "codemirror_mode": {
    "name": "ipython",
    "version": 3
   },
   "file_extension": ".py",
   "mimetype": "text/x-python",
   "name": "python",
   "nbconvert_exporter": "python",
   "pygments_lexer": "ipython3",
   "version": "3.11.7"
  }
 },
 "nbformat": 4,
 "nbformat_minor": 5
}
