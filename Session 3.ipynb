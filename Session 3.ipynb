{
 "cells": [
  {
   "cell_type": "markdown",
   "id": "3bcab8d2-46fb-469e-ab5e-c9868f55f814",
   "metadata": {},
   "source": [
    "# Q1.Print the following pattern. Write a program to use for loop to print the following reverse number pattern.\n",
    "      5 4 3 2 1\n",
    "      4 3 2 1\n",
    "      3 2 1\n",
    "      2 1\n",
    "      1"
   ]
  },
  {
   "cell_type": "code",
   "execution_count": 1,
   "id": "81e98721-983c-4f83-b916-17e46f4768c8",
   "metadata": {},
   "outputs": [
    {
     "name": "stdin",
     "output_type": "stream",
     "text": [
      "Enter the number of rows for the pattern:  5\n"
     ]
    },
    {
     "name": "stdout",
     "output_type": "stream",
     "text": [
      "1\n",
      "21\n",
      "321\n",
      "4321\n",
      "54321\n"
     ]
    }
   ],
   "source": [
    "def print_reverse_number_pattern(rows):\n",
    "    for i in range(1, rows + 1):\n",
    "        for j in range(i, 0, -1):\n",
    "            print(j, end='')\n",
    "        print()  \n",
    "\n",
    "def main():\n",
    "    rows = int(input(\"Enter the number of rows for the pattern: \"))\n",
    "    print_reverse_number_pattern(rows)\n",
    "\n",
    "if __name__ == \"__main__\":\n",
    "    main()"
   ]
  },
  {
   "cell_type": "markdown",
   "id": "98371372-7061-475e-ba35-61f5b55bcbb2",
   "metadata": {},
   "source": [
    "# Q2.Print the following pattern.\n",
    "      *\n",
    "      **\n",
    "      ***\n",
    "      ****\n",
    "      *****\n",
    "      ****\n",
    "      ***\n",
    "      **\n",
    "      *"
   ]
  },
  {
   "cell_type": "code",
   "execution_count": 2,
   "id": "29eb1535-f5e8-46dc-8da8-a3d0b5e6ff57",
   "metadata": {},
   "outputs": [
    {
     "name": "stdout",
     "output_type": "stream",
     "text": [
      "* \n",
      "* * \n",
      "* * * \n",
      "* * * * \n",
      "* * * * * \n",
      "* * * * \n",
      "* * * \n",
      "* * \n",
      "* \n"
     ]
    }
   ],
   "source": [
    "def print_pattern(rows):\n",
    "    for i in range(1, rows + 1):\n",
    "        for j in range(1, i + 1):\n",
    "            print(\"*\", end=\" \")\n",
    "        print()\n",
    "    \n",
    "  \n",
    "    for i in range(rows - 1, 0, -1):\n",
    "        for j in range(1, i + 1):\n",
    "            print(\"*\", end=\" \")\n",
    "        print()\n",
    "\n",
    "def main():\n",
    "    rows = 5  \n",
    "    print_pattern(rows)\n",
    "\n",
    "if __name__ == \"__main__\":\n",
    "    main()"
   ]
  },
  {
   "cell_type": "markdown",
   "id": "9673b72e-01cb-4817-9eeb-00575b50e247",
   "metadata": {},
   "source": [
    "# Q3. Write a program to print the following pattern\n",
    "         *\n",
    "       * * *\n",
    "     * * * * *"
   ]
  },
  {
   "cell_type": "code",
   "execution_count": 3,
   "id": "c075a8c2-5619-45a8-92e8-ede5d0537e6b",
   "metadata": {},
   "outputs": [
    {
     "name": "stdout",
     "output_type": "stream",
     "text": [
      "    * \n",
      "  * * * \n",
      "* * * * * \n"
     ]
    }
   ],
   "source": [
    "def print_pattern(rows):\n",
    "    max_asterisks = 2 * rows - 1\n",
    "    \n",
    "    for i in range(1, rows + 1):\n",
    "        spaces = max_asterisks - 2 * i + 1\n",
    "        \n",
    "        print(\" \" * spaces, end=\"\")\n",
    "        \n",
    "        for j in range(1, 2 * i):\n",
    "            print(\"*\", end=\" \")\n",
    "        print()\n",
    "\n",
    "def main():\n",
    "    rows = 3  \n",
    "    print_pattern(rows)\n",
    "\n",
    "if __name__ == \"__main__\":\n",
    "    main()"
   ]
  },
  {
   "cell_type": "markdown",
   "id": "f18a38c1-4f5d-45ac-af42-d7c77a7c0ee1",
   "metadata": {},
   "source": [
    "# Q4. Write a program to print the following pattern"
   ]
  },
  {
   "cell_type": "code",
   "execution_count": 4,
   "id": "5a0ba720-513e-4664-86b1-9dc9af208cff",
   "metadata": {},
   "outputs": [
    {
     "name": "stdout",
     "output_type": "stream",
     "text": [
      "1 \n",
      "2 1 \n",
      "3 2 1 \n",
      "4 3 2 1 \n",
      "5 4 3 2 1 \n"
     ]
    }
   ],
   "source": [
    "def print_pattern(rows):\n",
    "    for i in range(1, rows + 1):\n",
    "        for j in range(i, 0, -1):\n",
    "            print(j, end=\" \")\n",
    "        print()\n",
    "\n",
    "def main():\n",
    "    rows = 5  \n",
    "    print_pattern(rows)\n",
    "\n",
    "if __name__ == \"__main__\":\n",
    "    main()"
   ]
  },
  {
   "cell_type": "markdown",
   "id": "5d340854-d889-47b1-9617-7bd7732373be",
   "metadata": {},
   "source": [
    "# Q5. Write a Python Program to Find the Sum of the Series till the nth term:\n",
    "1 + x^2/2 + x^3/3 + … x^n/n\n",
    "n will be provided by the user\n",
    "\n"
   ]
  },
  {
   "cell_type": "code",
   "execution_count": 5,
   "id": "c13ad7ba-06ce-4bd5-9ec8-ba49b5b2a8c8",
   "metadata": {},
   "outputs": [
    {
     "name": "stdin",
     "output_type": "stream",
     "text": [
      "Enter the value of x:  10\n",
      "Enter the value of n:  50\n"
     ]
    },
    {
     "name": "stdout",
     "output_type": "stream",
     "text": [
      "The sum of the series till the 50th term is: 2.2272847708999672e+48\n"
     ]
    }
   ],
   "source": [
    "def sum_of_series(x, n):\n",
    "    total_sum = 1 \n",
    "    \n",
    "    for i in range(2, n + 1):\n",
    "        term = (x ** i) / i\n",
    "        total_sum += term\n",
    "    \n",
    "    return total_sum\n",
    "\n",
    "def main():\n",
    "    x = float(input(\"Enter the value of x: \"))\n",
    "    n = int(input(\"Enter the value of n: \"))\n",
    "    \n",
    "    result = sum_of_series(x, n)\n",
    "    \n",
    "    print(f\"The sum of the series till the {n}th term is: {result}\")\n",
    "\n",
    "if __name__ == \"__main__\":\n",
    "    main()"
   ]
  },
  {
   "cell_type": "markdown",
   "id": "a3992610-8863-4f2a-a524-a9f3882b08cf",
   "metadata": {},
   "source": [
    "# Q6. The natural logarithm can be approximated by the following series.\n",
    "x-1/x + 1/2 (x-1/x)^2 +1/2 (x-1/x)^3 +1/2 (x-1/x)^4+...........\n",
    "If x is input through the keyboard, write a program to calculate the sum of the first seven terms of this series."
   ]
  },
  {
   "cell_type": "code",
   "execution_count": 6,
   "id": "07150bf6-1d6b-4380-81d2-87f5d838b963",
   "metadata": {},
   "outputs": [
    {
     "name": "stdin",
     "output_type": "stream",
     "text": [
      "Enter the value of x:  2\n"
     ]
    },
    {
     "name": "stdout",
     "output_type": "stream",
     "text": [
      "The natural logarithm approximation of (1 + 2.0) is: 12.685714285714285\n"
     ]
    }
   ],
   "source": [
    "def natural_log_approx(x):\n",
    "    sum_terms = x\n",
    "    \n",
    "    sum_terms -= (x ** 2) / 2\n",
    "    sum_terms += (x ** 3) / 3\n",
    "    sum_terms -= (x ** 4) / 4\n",
    "    sum_terms += (x ** 5) / 5\n",
    "    sum_terms -= (x ** 6) / 6\n",
    "    sum_terms += (x ** 7) / 7\n",
    "    \n",
    "    return sum_terms\n",
    "\n",
    "def main():\n",
    "    x = float(input(\"Enter the value of x: \"))\n",
    "    \n",
    "    ln_approximation = natural_log_approx(x)\n",
    "    \n",
    "    print(f\"The natural logarithm approximation of (1 + {x}) is: {ln_approximation}\")\n",
    "\n",
    "if __name__ == \"__main__\":\n",
    "    main()"
   ]
  },
  {
   "cell_type": "markdown",
   "id": "08f45e92-17fe-400c-9280-8e3c8d1682b0",
   "metadata": {},
   "source": [
    "# Q7. Find the sum of the series upto n terms.\n",
    "Write a program to calculate the sum of series up to n term. For example, if n =5 the series will become 2 + 22 + 222 + 2222 + 22222 = 24690. Take the user input and then calculate."
   ]
  },
  {
   "cell_type": "code",
   "execution_count": 7,
   "id": "590990c9-fcb4-41a2-b52e-514320c6bdeb",
   "metadata": {},
   "outputs": [
    {
     "name": "stdin",
     "output_type": "stream",
     "text": [
      "Enter the number of terms (n):  5\n"
     ]
    },
    {
     "name": "stdout",
     "output_type": "stream",
     "text": [
      "The sum of the series up to 5 terms is: 24690\n"
     ]
    }
   ],
   "source": [
    "def sum_of_series(n):\n",
    "    total_sum = 0\n",
    "    current_term = 0\n",
    "    \n",
    "    for i in range(1, n + 1):\n",
    "        current_term = current_term * 10 + 2\n",
    "        total_sum += current_term\n",
    "    \n",
    "    return total_sum\n",
    "\n",
    "def main():\n",
    "    n = int(input(\"Enter the number of terms (n): \"))\n",
    "    \n",
    "    result = sum_of_series(n)\n",
    "    \n",
    "    print(f\"The sum of the series up to {n} terms is: {result}\")\n",
    "\n",
    "if __name__ == \"__main__\":\n",
    "    main()"
   ]
  },
  {
   "cell_type": "markdown",
   "id": "30d78c87-37bc-455d-a0e7-1472745f094a",
   "metadata": {},
   "source": [
    "# Q8. Write a program to print all the unique combinations of 1,2,3 and 4"
   ]
  },
  {
   "cell_type": "code",
   "execution_count": 1,
   "id": "f32dd64c-ac6d-439c-81ee-41c28b587020",
   "metadata": {},
   "outputs": [
    {
     "name": "stdout",
     "output_type": "stream",
     "text": [
      "Unique combinations of 1, 2, 3, and 4:\n",
      "(1,)\n",
      "(2,)\n",
      "(3,)\n",
      "(4,)\n",
      "(1, 2)\n",
      "(1, 3)\n",
      "(1, 4)\n",
      "(2, 3)\n",
      "(2, 4)\n",
      "(3, 4)\n",
      "(1, 2, 3)\n",
      "(1, 2, 4)\n",
      "(1, 3, 4)\n",
      "(2, 3, 4)\n",
      "(1, 2, 3, 4)\n"
     ]
    }
   ],
   "source": [
    "from itertools import combinations\n",
    "\n",
    "def print_combinations():\n",
    "    nums = [1, 2, 3, 4]\n",
    "    \n",
    "    for r in range(1, len(nums) + 1):\n",
    "        for combo in combinations(nums, r):\n",
    "            print(combo)\n",
    "\n",
    "def main():\n",
    "    print(\"Unique combinations of 1, 2, 3, and 4:\")\n",
    "    print_combinations()\n",
    "\n",
    "if __name__ == \"__main__\":\n",
    "    main()"
   ]
  },
  {
   "cell_type": "markdown",
   "id": "51146b10-ae4b-4783-9efa-9c5785dc9de3",
   "metadata": {},
   "source": [
    "# Q9. Write a program that will take a decimal number as input and prints out the binary equivalent of the number"
   ]
  },
  {
   "cell_type": "code",
   "execution_count": 2,
   "id": "fec1828d-9aa6-40ad-9302-2c13f694d2a9",
   "metadata": {},
   "outputs": [
    {
     "name": "stdin",
     "output_type": "stream",
     "text": [
      "Enter a decimal number:  45\n"
     ]
    },
    {
     "name": "stdout",
     "output_type": "stream",
     "text": [
      "The binary equivalent of 45 is: 101101\n"
     ]
    }
   ],
   "source": [
    "def decimal_to_binary(decimal_num):\n",
    "    binary_num = bin(decimal_num)\n",
    "    \n",
    "    binary_num = binary_num[2:]\n",
    "    \n",
    "    return binary_num\n",
    "\n",
    "def main():\n",
    "    decimal_num = int(input(\"Enter a decimal number: \"))\n",
    "    \n",
    "    binary_num = decimal_to_binary(decimal_num)\n",
    "    \n",
    "    print(f\"The binary equivalent of {decimal_num} is: {binary_num}\")\n",
    "\n",
    "if __name__== \"__main__\":\n",
    "    main()"
   ]
  },
  {
   "cell_type": "markdown",
   "id": "4629d14e-a2d3-41c9-b87f-f836276bc069",
   "metadata": {},
   "source": [
    "# Q10.  Write a program that will take 2 numbers as input and prints the LCM and HCF of those 2 numbers"
   ]
  },
  {
   "cell_type": "code",
   "execution_count": 4,
   "id": "378e8d5a-c4f3-4c43-ba86-b71c4a4cc6b2",
   "metadata": {},
   "outputs": [
    {
     "name": "stdin",
     "output_type": "stream",
     "text": [
      "Enter first number:  4\n",
      "Enter second number:  10\n"
     ]
    },
    {
     "name": "stdout",
     "output_type": "stream",
     "text": [
      "The HCF of 4 and 10 is: 2\n",
      "The LCM of 4 and 10 is: 20\n"
     ]
    }
   ],
   "source": [
    "def compute_hcf(x, y):\n",
    "    while y:\n",
    "        x, y = y, x % y\n",
    "    return x\n",
    "\n",
    "def compute_lcm(x, y):\n",
    "    lcm = (x * y) // compute_hcf(x, y)\n",
    "    return lcm\n",
    "\n",
    "def main():\n",
    "    num1 = int(input(\"Enter first number: \"))\n",
    "    num2 = int(input(\"Enter second number: \"))\n",
    "    \n",
    "    hcf = compute_hcf(num1, num2)\n",
    "    \n",
    "    lcm = compute_lcm(num1, num2)\n",
    "    \n",
    "    print(f\"The HCF of {num1} and {num2} is: {hcf}\")\n",
    "    print(f\"The LCM of {num1} and {num2} is: {lcm}\")\n",
    "\n",
    "if __name__ == \"__main__\":\n",
    "    main()"
   ]
  },
  {
   "cell_type": "markdown",
   "id": "6a934e09-7813-4db5-bd12-d4a5f89fdfee",
   "metadata": {},
   "source": [
    "# Q11.Create Short Form from initial character\n",
    "Given a string create short form ofthe string from Initial character. Short form should be capitalised."
   ]
  },
  {
   "cell_type": "code",
   "execution_count": 5,
   "id": "b59fcfdd-bc11-4734-ba6e-933acf94cc05",
   "metadata": {},
   "outputs": [
    {
     "name": "stdin",
     "output_type": "stream",
     "text": [
      "Enter a string:  Code is poetry written by machines\n"
     ]
    },
    {
     "name": "stdout",
     "output_type": "stream",
     "text": [
      "The short form of 'Code is poetry written by machines' is: CIPWBM\n"
     ]
    }
   ],
   "source": [
    "def create_short_form(input_string):\n",
    "    words = input_string.split()\n",
    "    \n",
    "    short_form = \"\"\n",
    "    \n",
    "    for word in words:\n",
    "        short_form += word[0].upper() \n",
    "    \n",
    "    return short_form\n",
    "\n",
    "def main():\n",
    "    input_string = input(\"Enter a string: \")\n",
    "    \n",
    "    short_form = create_short_form(input_string)\n",
    "    \n",
    "    print(f\"The short form of '{input_string}' is: {short_form}\")\n",
    "\n",
    "if __name__ == \"__main__\":\n",
    "    main()"
   ]
  },
  {
   "cell_type": "markdown",
   "id": "b01be85e-c146-42a3-b4ec-f88ce6ab3c1a",
   "metadata": {},
   "source": [
    "# Q12. Append second string in the middle of first string"
   ]
  },
  {
   "cell_type": "code",
   "execution_count": 12,
   "id": "90e10426-376d-4e69-a7a1-98f1a5907799",
   "metadata": {},
   "outputs": [
    {
     "name": "stdout",
     "output_type": "stream",
     "text": [
      "First string: Code with Passion\n",
      "Second string: Learn\n",
      "Result after appending second string in the middle: Code witLearnh Passion\n"
     ]
    }
   ],
   "source": [
    "def append_middle(first_string, second_string):\n",
    "    middle_index = len(first_string) // 2\n",
    "    \n",
    "    result_string = first_string[:middle_index] + second_string + first_string[middle_index:]\n",
    "    \n",
    "    return result_string\n",
    "\n",
    "def main():\n",
    "   \n",
    "    first_string = \"Code with Passion\"\n",
    "    second_string = \"Learn\"\n",
    "    \n",
    "    result = append_middle(first_string, second_string)\n",
    "    \n",
    "    print(\"First string:\", first_string)\n",
    "    print(\"Second string:\", second_string)\n",
    "    print(\"Result after appending second string in the middle:\", result)\n",
    "\n",
    "if __name__ == \"__main__\":\n",
    "    main()"
   ]
  },
  {
   "cell_type": "markdown",
   "id": "af937134-8e0f-4729-a57d-785c6346a42e",
   "metadata": {},
   "source": [
    "# Q13. :Given string contains a combination of the lower and upper case letters. Write a program to arrange the characters of a string so that all lowercase letters should come first.\n",
    "Given:\n",
    "str1 = PyNaTive"
   ]
  },
  {
   "cell_type": "code",
   "execution_count": 16,
   "id": "34d56111-eb13-4fcc-9651-6f14bfa5dd23",
   "metadata": {},
   "outputs": [
    {
     "name": "stdin",
     "output_type": "stream",
     "text": [
      "Enter a string:  Better Safe code Than sorry Debug\n"
     ]
    },
    {
     "name": "stdout",
     "output_type": "stream",
     "text": [
      "Arranged string with lowercase letters first:\n",
      "getterubafeecode yhanrsor T D S B\n"
     ]
    }
   ],
   "source": [
    "def arrange_lower_first(input_string):\n",
    "  \n",
    "    chars = list(input_string)\n",
    "    \n",
    "    left, right = 0, len(chars) - 1\n",
    "    \n",
    "    while left <= right:\n",
    "        while left <= right and chars[left].islower():\n",
    "            left += 1\n",
    "        \n",
    "        while left <= right and chars[right].isupper():\n",
    "            right -= 1\n",
    "\n",
    "        if left <= right:\n",
    "            chars[left], chars[right] = chars[right], chars[left]\n",
    "            left += 1\n",
    "            right -= 1\n",
    "\n",
    "    result_string = ''.join(chars)\n",
    "    \n",
    "    return result_string\n",
    "\n",
    "def main():\n",
    "\n",
    "    input_string = input(\"Enter a string: \")\n",
    "    \n",
    "    arranged_string = arrange_lower_first(input_string)\n",
    "    \n",
    "    print(\"Arranged string with lowercase letters first:\")\n",
    "    print(arranged_string)\n",
    "\n",
    "if __name__ == \"__main__\":\n",
    "    main()"
   ]
  },
  {
   "cell_type": "markdown",
   "id": "34938667-0310-48d3-9505-3c976becdb34",
   "metadata": {},
   "source": [
    "# Q14. Take a alphanumeric string input and print the sum and average of the digits that appear in the string, ignoring all other characters."
   ]
  },
  {
   "cell_type": "code",
   "execution_count": 9,
   "id": "cc101c34-96e0-460c-915e-d08f9197569c",
   "metadata": {},
   "outputs": [
    {
     "name": "stdin",
     "output_type": "stream",
     "text": [
      "Enter an alphanumeric string:  Hello123World456\n"
     ]
    },
    {
     "name": "stdout",
     "output_type": "stream",
     "text": [
      "Sum of digits in 'Hello123World456': 21\n",
      "Average of digits in 'Hello123World456': 3.50\n"
     ]
    }
   ],
   "source": [
    "def sum_and_average_digits(input_string):\n",
    "    digit_sum = 0\n",
    "    digit_count = 0\n",
    "    \n",
    "    for char in input_string:\n",
    "\n",
    "        if char.isdigit():\n",
    "            digit_sum += int(char)\n",
    "            digit_count += 1  \n",
    "    if digit_count > 0:\n",
    "        digit_average = digit_sum / digit_count\n",
    "    else:\n",
    "        digit_average = 0\n",
    "    \n",
    "    return digit_sum, digit_average\n",
    "\n",
    "def main():\n",
    "    input_string = input(\"Enter an alphanumeric string: \")\n",
    "    \n",
    "\n",
    "    sum_digits, average_digits = sum_and_average_digits(input_string)\n",
    "    \n",
    "   \n",
    "    print(f\"Sum of digits in '{input_string}': {sum_digits}\")\n",
    "    print(f\"Average of digits in '{input_string}': {average_digits:.2f}\")\n",
    "\n",
    "if __name__ == \"__main__\":\n",
    "    main()"
   ]
  },
  {
   "cell_type": "markdown",
   "id": "e634fc64-0707-416b-9b54-71cd42a5090a",
   "metadata": {},
   "source": [
    "# Q15.Removal of all characters from a string except integers\n",
    "Given:\n",
    "str1 = 'I am 25 years and 10 months old'"
   ]
  },
  {
   "cell_type": "code",
   "execution_count": 2,
   "id": "fa41bbe0-88e7-46b6-9fdf-d1fd9d6d245d",
   "metadata": {},
   "outputs": [
    {
     "name": "stdin",
     "output_type": "stream",
     "text": [
      "Enter a string:  I am 25 years and 10 months old\n"
     ]
    },
    {
     "name": "stdout",
     "output_type": "stream",
     "text": [
      "The string with only digits: 2510\n"
     ]
    }
   ],
   "source": [
    "def remove_non_digits(input_string):\n",
    "    \n",
    "    digits_only = ''.join([char for char in input_string if char.isdigit()])\n",
    "    return digits_only\n",
    "\n",
    "def main():\n",
    " \n",
    "    input_string = input(\"Enter a string: \")\n",
    "    \n",
    "\n",
    "    digits_only = remove_non_digits(input_string)\n",
    "    \n",
    "   \n",
    "    print(f\"The string with only digits: {digits_only}\")\n",
    "\n",
    "if __name__ == \"__main__\":\n",
    "    main()"
   ]
  },
  {
   "cell_type": "markdown",
   "id": "a9b96633-7f2c-4415-94d9-f553919de329",
   "metadata": {},
   "source": [
    "# Q16. Check whether the string is Symmetrical.\n",
    "Statement: Given a string. the task is to check if the string is symmetrical or not. A string is said to be symmetrical if both the halves of the string are the same."
   ]
  },
  {
   "cell_type": "code",
   "execution_count": 3,
   "id": "8fa9d2e5-a9ed-472a-9aa5-a0237eb60f3d",
   "metadata": {},
   "outputs": [
    {
     "name": "stdin",
     "output_type": "stream",
     "text": [
      "Enter a string:  Time is Money\n"
     ]
    },
    {
     "name": "stdout",
     "output_type": "stream",
     "text": [
      "The string 'Time is Money' is not symmetrical.\n"
     ]
    }
   ],
   "source": [
    "def is_symmetrical(input_string):\n",
    "    n = len(input_string)\n",
    "    \n",
    "    return input_string[:n//2] == input_string[(n+1)//2:][::-1]\n",
    "\n",
    "def main():\n",
    "\n",
    "    input_string = input(\"Enter a string: \")\n",
    "    \n",
    "    if is_symmetrical(input_string):\n",
    "        print(f\"The string '{input_string}' is symmetrical.\")\n",
    "    else:\n",
    "        print(f\"The string '{input_string}' is not symmetrical.\")\n",
    "\n",
    "if __name__ == \"__main__\":\n",
    "    main()"
   ]
  },
  {
   "cell_type": "markdown",
   "id": "50ff4274-5c1f-4b04-89c0-5d621c6a09bb",
   "metadata": {},
   "source": [
    "# Q17. Reverse words in a given String\n",
    "Statement: We are given a string and we need to reverse words of a given string."
   ]
  },
  {
   "cell_type": "code",
   "execution_count": 1,
   "id": "3545d6c3-d6e2-4a99-9c95-5f8f7ca3073c",
   "metadata": {},
   "outputs": [
    {
     "name": "stdin",
     "output_type": "stream",
     "text": [
      "Enter a string:  Live in your own world\n"
     ]
    },
    {
     "name": "stdout",
     "output_type": "stream",
     "text": [
      "Original string: Live in your own world\n",
      "Reversed words: world own your in Live\n"
     ]
    }
   ],
   "source": [
    "def reverse_words(input_string):\n",
    "    words = input_string.split()\n",
    "    \n",
    "    reversed_words = words[::-1]\n",
    "    \n",
    "    reversed_string = ' '.join(reversed_words)\n",
    "    \n",
    "    return reversed_string\n",
    "\n",
    "def main():\n",
    "\n",
    "    input_string = input(\"Enter a string: \")\n",
    "    \n",
    "    reversed_string = reverse_words(input_string)\n",
    "    \n",
    "    print(\"Original string:\", input_string)\n",
    "    print(\"Reversed words:\", reversed_string)\n",
    "\n",
    "if __name__ == \"__main__\":\n",
    "    main()"
   ]
  },
  {
   "cell_type": "markdown",
   "id": "8ba02357-ef57-4634-8860-63f946b7bc5d",
   "metadata": {},
   "source": [
    "# Q18. Find uncommon words from two Strings.\n",
    "Statement: Given two sentences as strings A and B. The task is to return a list of all uncommon words. A word is uncommon if it appears exactly once in any one of the sentences, and does not appear in the other sentence. Note: A sentence is a string of space-separated words. Each word consists only of lowercase letters."
   ]
  },
  {
   "cell_type": "code",
   "execution_count": 2,
   "id": "bf123b5e-034f-40b8-8d46-23467e0ec294",
   "metadata": {},
   "outputs": [
    {
     "name": "stdin",
     "output_type": "stream",
     "text": [
      "Enter sentence A:  Hello World\n",
      "Enter sentence B:  thankyou\n"
     ]
    },
    {
     "name": "stdout",
     "output_type": "stream",
     "text": [
      "Uncommon words: ['thankyou', 'Hello', 'World']\n"
     ]
    }
   ],
   "source": [
    "def find_uncommon_words(A, B):\n",
    "    words_A = A.split()\n",
    "    words_B = B.split()\n",
    "    \n",
    "    count_A = {}\n",
    "    count_B = {}\n",
    "    \n",
    "    for word in words_A:\n",
    "        count_A[word] = count_A.get(word, 0) + 1\n",
    "    \n",
    "    for word in words_B:\n",
    "        count_B[word] = count_B.get(word, 0) + 1\n",
    "  \n",
    "    uncommon_words = set()\n",
    "    \n",
    "    for word in count_A:\n",
    "        if count_A[word] == 1 and word not in count_B:\n",
    "            uncommon_words.add(word)\n",
    "    \n",
    "    for word in count_B:\n",
    "        if count_B[word] == 1 and word not in count_A:\n",
    "            uncommon_words.add(word)\n",
    "    \n",
    "    return list(uncommon_words)\n",
    "\n",
    "def main():\n",
    "    A = input(\"Enter sentence A: \")\n",
    "    B = input(\"Enter sentence B: \")\n",
    " \n",
    "    uncommon = find_uncommon_words(A, B)\n",
    "    \n",
    "\n",
    "    print(\"Uncommon words:\", uncommon)\n",
    "\n",
    "if __name__ == \"__main__\":\n",
    "    main()"
   ]
  },
  {
   "cell_type": "markdown",
   "id": "ecd21469-c28d-4f07-b6b2-0f0fb4d74f4c",
   "metadata": {},
   "source": [
    "# Q19. Word location in String.\n",
    "Statement: Find a location of a word in a given sentence."
   ]
  },
  {
   "cell_type": "code",
   "execution_count": 7,
   "id": "b7186900-1bc9-4677-8340-0c7dfe78ead8",
   "metadata": {},
   "outputs": [
    {
     "name": "stdout",
     "output_type": "stream",
     "text": [
      "The word 'knowledge' is found at index 16.\n"
     ]
    }
   ],
   "source": [
    "def find_word_location(sentence, word):\n",
    "    index = sentence.find(word)\n",
    "    \n",
    "    return index\n",
    "\n",
    "def main():\n",
    "  \n",
    "    word = \"knowledge\"\n",
    "    sentence = \"Empower through knowledge, inspire through action\"\n",
    "    location = find_word_location(sentence, word)\n",
    "    \n",
    "    if location != -1:\n",
    "        print(f\"The word '{word}' is found at index {location}.\")\n",
    "    else:\n",
    "        print(f\"The word '{word}' is not found in the sentence.\")\n",
    "\n",
    "if __name__ == \"__main__\":\n",
    "    main()"
   ]
  },
  {
   "cell_type": "markdown",
   "id": "ab338a0c-84f7-45b5-9974-6e5405f7ef50",
   "metadata": {},
   "source": [
    "# Q20. Write a program that can remove all the duplicate characters from a string. User will provide the input."
   ]
  },
  {
   "cell_type": "code",
   "execution_count": 8,
   "id": "078457ec-5bfe-4bb3-bc86-18d4da3556f6",
   "metadata": {},
   "outputs": [
    {
     "name": "stdin",
     "output_type": "stream",
     "text": [
      "Enter a string:  Powerful people come from powerful places\n"
     ]
    },
    {
     "name": "stdout",
     "output_type": "stream",
     "text": [
      "String with duplicates removed: Powerful pcmas\n"
     ]
    }
   ],
   "source": [
    "def remove_duplicates(input_string):\n",
    "    \n",
    "    seen = set()\n",
    "    result = []\n",
    "    \n",
    "\n",
    "    for char in input_string:\n",
    "        if char not in seen:\n",
    "            seen.add(char)\n",
    "            result.append(char)\n",
    "    \n",
    "    return ''.join(result)\n",
    "\n",
    "def main():\n",
    "    input_string = input(\"Enter a string: \")\n",
    "    \n",
    "\n",
    "    unique_string = remove_duplicates(input_string)\n",
    "    \n",
    "    print(\"String with duplicates removed:\", unique_string)\n",
    "\n",
    "if __name__ == \"__main__\":\n",
    "    main()"
   ]
  },
  {
   "cell_type": "code",
   "execution_count": null,
   "id": "dd5576f3-46dd-40a8-bfcc-ce7e5dc6cabd",
   "metadata": {},
   "outputs": [],
   "source": []
  }
 ],
 "metadata": {
  "kernelspec": {
   "display_name": "Python 3 (ipykernel)",
   "language": "python",
   "name": "python3"
  },
  "language_info": {
   "codemirror_mode": {
    "name": "ipython",
    "version": 3
   },
   "file_extension": ".py",
   "mimetype": "text/x-python",
   "name": "python",
   "nbconvert_exporter": "python",
   "pygments_lexer": "ipython3",
   "version": "3.11.7"
  }
 },
 "nbformat": 4,
 "nbformat_minor": 5
}
