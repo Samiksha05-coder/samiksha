{
 "cells": [
  {
   "cell_type": "markdown",
   "id": "897cee57-541f-4c10-b7c6-ffdc6d189493",
   "metadata": {},
   "source": [
    "# Find the Length of given string (given by user) \n",
    "# without using len()funtion"
   ]
  },
  {
   "cell_type": "code",
   "execution_count": 1,
   "id": "8ca1ed93-2dca-4a17-8c10-1974713f0c6e",
   "metadata": {},
   "outputs": [
    {
     "name": "stdin",
     "output_type": "stream",
     "text": [
      "Taking string from user  hello world\n"
     ]
    },
    {
     "name": "stdout",
     "output_type": "stream",
     "text": [
      "length of string is 11\n"
     ]
    }
   ],
   "source": [
    "str1 = (input( \"Taking string from user \"))\n",
    "\n",
    "count=0\n",
    "for i in str1:\n",
    "    count +=1\n",
    "print (\"length of string is\", count)"
   ]
  },
  {
   "cell_type": "markdown",
   "id": "945d7740-c15a-4114-9836-ac75b95fa795",
   "metadata": {},
   "source": [
    "# Extract userid from given mail i'd\n",
    "# eg if the mail is chetan24jagtap@gmail.com\n",
    "# them user name should be \"chetan24jagtap\"\n"
   ]
  },
  {
   "cell_type": "code",
   "execution_count": 2,
   "id": "c37826df-1b0d-48bc-acd6-fe4c89847787",
   "metadata": {},
   "outputs": [
    {
     "name": "stdin",
     "output_type": "stream",
     "text": [
      "enter your mail_id chetan24jagtap@gmail.com\n"
     ]
    },
    {
     "ename": "ValueError",
     "evalue": "substring not found",
     "output_type": "error",
     "traceback": [
      "\u001b[1;31m---------------------------------------------------------------------------\u001b[0m",
      "\u001b[1;31mValueError\u001b[0m                                Traceback (most recent call last)",
      "Cell \u001b[1;32mIn[2], line 2\u001b[0m\n\u001b[0;32m      1\u001b[0m mail_id\u001b[38;5;241m=\u001b[39m \u001b[38;5;28minput\u001b[39m(\u001b[38;5;124m\"\u001b[39m\u001b[38;5;124menter your mail_id\u001b[39m\u001b[38;5;124m\"\u001b[39m)\n\u001b[1;32m----> 2\u001b[0m poss\u001b[38;5;241m=\u001b[39m mail_id\u001b[38;5;241m.\u001b[39mindex(\u001b[38;5;124m\"\u001b[39m\u001b[38;5;124m0\u001b[39m\u001b[38;5;124m\"\u001b[39m)\n\u001b[0;32m      3\u001b[0m \u001b[38;5;28mprint\u001b[39m(mail_id[\u001b[38;5;241m0\u001b[39m:poss])\n",
      "\u001b[1;31mValueError\u001b[0m: substring not found"
     ]
    }
   ],
   "source": [
    "mail_id= input(\"enter your mail_id\")\n",
    "poss= mail_id.index(\"0\")\n",
    "print(mail_id[0:poss])"
   ]
  },
  {
   "cell_type": "markdown",
   "id": "75fd1cd4-c3b8-420a-98e9-c07f262c29cd",
   "metadata": {},
   "source": [
    "#count the frequency of particular character in provided strip\n",
    "# eg \"how are you \", is the string,\n",
    "# the frequency of \"h\" in this string is 2\n",
    "# without using count function "
   ]
  },
  {
   "cell_type": "code",
   "execution_count": 2,
   "id": "dbdff264-cba0-4ee2-831c-e7c4aa49698c",
   "metadata": {},
   "outputs": [
    {
     "name": "stdin",
     "output_type": "stream",
     "text": [
      "Enter your string  hello how are you\n",
      "what would you like to search h\n"
     ]
    },
    {
     "name": "stdout",
     "output_type": "stream",
     "text": [
      "frequency of your char is 2\n"
     ]
    }
   ],
   "source": [
    "s = input(\"Enter your string \")\n",
    "term = input(\"what would you like to search\")\n",
    "\n",
    "counter = 0 \n",
    "for i in s :\n",
    "     if i == term :\n",
    "         counter += 1\n",
    "print(\"frequency of your char is\",counter)"
   ]
  },
  {
   "cell_type": "markdown",
   "id": "523ba3ff-8304-4a1c-a587-270783d4c189",
   "metadata": {},
   "source": [
    "# write a program which can remove \n",
    "# a perticular character from string "
   ]
  },
  {
   "cell_type": "code",
   "execution_count": 6,
   "id": "d795b49e-884d-4144-a965-f68cb239105c",
   "metadata": {},
   "outputs": [
    {
     "name": "stdin",
     "output_type": "stream",
     "text": [
      "enter your string hello how are you \n",
      "what you want to remove h\n"
     ]
    },
    {
     "name": "stdout",
     "output_type": "stream",
     "text": [
      "ello ow are you \n"
     ]
    }
   ],
   "source": [
    "s= input (\"enter your string\")\n",
    "term = input (\"what you want to remove\")\n",
    "\n",
    "result =\"\"\n",
    "\n",
    "for i in s:\n",
    "    if i != term:\n",
    "        result = result + i\n",
    "print(result)\n",
    "\n",
    "\n"
   ]
  },
  {
   "cell_type": "code",
   "execution_count": null,
   "id": "59aaa82d-de7e-4ad8-a800-521e8917e2a7",
   "metadata": {},
   "outputs": [],
   "source": []
  }
 ],
 "metadata": {
  "kernelspec": {
   "display_name": "Python 3 (ipykernel)",
   "language": "python",
   "name": "python3"
  },
  "language_info": {
   "codemirror_mode": {
    "name": "ipython",
    "version": 3
   },
   "file_extension": ".py",
   "mimetype": "text/x-python",
   "name": "python",
   "nbconvert_exporter": "python",
   "pygments_lexer": "ipython3",
   "version": "3.11.7"
  }
 },
 "nbformat": 4,
 "nbformat_minor": 5
}
