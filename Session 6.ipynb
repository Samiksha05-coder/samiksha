{
 "cells": [
  {
   "cell_type": "markdown",
   "id": "87b5be08-eb22-41c3-a40f-8e0df71a8db2",
   "metadata": {},
   "source": [
    "# Q1. Write a Python function that takes a list and returns a new list with unique elements of the first list."
   ]
  },
  {
   "cell_type": "code",
   "execution_count": 15,
   "id": "de286631-ef4a-43f7-a94b-3356c903e9e2",
   "metadata": {},
   "outputs": [
    {
     "name": "stdout",
     "output_type": "stream",
     "text": [
      "[1, 2, 3, 4, 5]\n"
     ]
    }
   ],
   "source": [
    "def unique_elements(input_list):\n",
    "    return list(set(input_list))\n",
    "    \n",
    "input_list = [1, 2, 3, 3, 3, 3, 4, 5]\n",
    "unique_list = unique_elements(input_list)\n",
    "print(unique_list)"
   ]
  },
  {
   "cell_type": "markdown",
   "id": "fb8102f3-e2a5-4704-8882-fcd93c95cced",
   "metadata": {},
   "source": [
    "# Q2. Write a Python function that accepts a hyphen-separated sequence of words as parameter and returns the words in a hyphen-separated sequence after sorting them alphabetically."
   ]
  },
  {
   "cell_type": "code",
   "execution_count": 16,
   "id": "06fea644-ca10-4055-9752-79099319c621",
   "metadata": {},
   "outputs": [
    {
     "name": "stdout",
     "output_type": "stream",
     "text": [
      "apple-banana-grape-orange\n"
     ]
    }
   ],
   "source": [
    "def sort_hyphenated_sequence(sequence):\n",
    "    words = sequence.split('-')\n",
    "    words.sort()\n",
    "    return '-'.join(words)\n",
    "\n",
    "input_sequence = \"apple-orange-banana-grape\"\n",
    "sorted_sequence = sort_hyphenated_sequence(input_sequence)\n",
    "print(sorted_sequence)"
   ]
  },
  {
   "cell_type": "markdown",
   "id": "8d4002af-59c3-49bf-a6ed-f2f4dae7f51a",
   "metadata": {},
   "source": [
    "# Q3. Write a Python function that accepts a string and calculate the number of upper case letters and lower case letters."
   ]
  },
  {
   "cell_type": "code",
   "execution_count": 17,
   "id": "b56bf076-05de-494d-a1f0-e9b2845b9b43",
   "metadata": {},
   "outputs": [
    {
     "name": "stdout",
     "output_type": "stream",
     "text": [
      "Uppercase letters: 2\n",
      "Lowercase letters: 13\n"
     ]
    }
   ],
   "source": [
    "def count_case_letters(input_string):\n",
    "    upper_count = 0\n",
    "    lower_count = 0\n",
    "\n",
    "    for char in input_string:\n",
    "        if char.isupper():\n",
    "            upper_count += 1\n",
    "        elif char.islower():\n",
    "            lower_count += 1\n",
    "\n",
    "    return upper_count, lower_count\n",
    "\n",
    "input_string = \"Sharing is Caring\"\n",
    "upper_count, lower_count = count_case_letters(input_string)\n",
    "print(f\"Uppercase letters: {upper_count}\")\n",
    "print(f\"Lowercase letters: {lower_count}\")"
   ]
  },
  {
   "cell_type": "markdown",
   "id": "a4bd7f8c-70b6-4e0a-96df-fd0a092eebb2",
   "metadata": {},
   "source": [
    "# Q4.  Write a Python program to print the even numbers from a given list.\n",
    "Sample List : [1, 2, 3, 4, 5, 6, 7, 8, 9]\n",
    "Expected Result : [2, 4, 6, 8]"
   ]
  },
  {
   "cell_type": "code",
   "execution_count": 19,
   "id": "cb8d03fe-297d-495c-a8b9-3ea2f68fbc4f",
   "metadata": {},
   "outputs": [
    {
     "name": "stdout",
     "output_type": "stream",
     "text": [
      "Even numbers: [2, 4, 6, 8]\n"
     ]
    }
   ],
   "source": [
    "def print_even_numbers(input_list):\n",
    "    even_numbers = [num for num in input_list if num % 2 == 0]\n",
    "    print(\"Even numbers:\", even_numbers)\n",
    "\n",
    "# Example usage\n",
    "input_list = [1, 2, 3, 4, 5, 6, 7, 8, 9]\n",
    "print_even_numbers(input_list)"
   ]
  },
  {
   "cell_type": "markdown",
   "id": "4f176a22-0b5c-4456-9869-53f05506808a",
   "metadata": {},
   "source": [
    "# Q5. Write a Python function to check whether a number is perfect or not.\n",
    "A Perfect number is a number that is half the sum of all of its positive divisors (including itself)."
   ]
  },
  {
   "cell_type": "code",
   "execution_count": 21,
   "id": "3a4d801b-7ae9-430a-b300-c29b8d857ebe",
   "metadata": {},
   "outputs": [
    {
     "name": "stdout",
     "output_type": "stream",
     "text": [
      "23 is not a perfect number\n"
     ]
    }
   ],
   "source": [
    "def is_perfect_number(n):\n",
    "    if n <= 0:\n",
    "        return False\n",
    "    \n",
    "    divisors_sum = sum([i for i in range(1, n) if n % i == 0])\n",
    "    \n",
    "    return divisors_sum == n\n",
    "\n",
    "number = 23\n",
    "if is_perfect_number(number):\n",
    "    print(f\"{number} is a perfect number\")\n",
    "else:\n",
    "    print(f\"{number} is not a perfect number\")"
   ]
  },
  {
   "cell_type": "markdown",
   "id": "0e258497-6295-41d5-980c-e47c2a9d6e07",
   "metadata": {},
   "source": [
    "# Q6. Write a Python function to concatenate any no of dictionaries to create a new one.\n",
    "Sample Dictionary :\n",
    "dic1={1:10, 2:20}\n",
    "dic2={3:30, 4:40}\n",
    "dic3={5:50,6:60}\n",
    "Expected Result : {1: 10, 2: 20, 3: 30, 4: 40, 5: 50, 6: 60}"
   ]
  },
  {
   "cell_type": "code",
   "execution_count": 22,
   "id": "a6f0ad79-c807-4f94-b1b0-8cb7d7ec2f20",
   "metadata": {},
   "outputs": [
    {
     "name": "stdout",
     "output_type": "stream",
     "text": [
      "{1: 10, 2: 20, 3: 30, 4: 40, 5: 50, 6: 60}\n"
     ]
    }
   ],
   "source": [
    "def concatenate_dictionaries(*dicts):\n",
    "    result = {}\n",
    "    for dictionary in dicts:\n",
    "        result.update(dictionary)\n",
    "    return result\n",
    "\n",
    "# Example usage\n",
    "dic1 = {1: 10, 2: 20}\n",
    "dic2 = {3: 30, 4: 40}\n",
    "dic3 = {5: 50, 6: 60}\n",
    "\n",
    "result = concatenate_dictionaries(dic1, dic2, dic3)\n",
    "print(result)"
   ]
  },
  {
   "cell_type": "markdown",
   "id": "d5ba6d69-539e-497a-90da-422831d47455",
   "metadata": {},
   "source": [
    "# Q7. Write a python function that accepts a string as input and returns the word with most occurence."
   ]
  },
  {
   "cell_type": "code",
   "execution_count": 35,
   "id": "11bbfb25-941c-41a8-afcc-d2f8e56eb08e",
   "metadata": {},
   "outputs": [
    {
     "name": "stdout",
     "output_type": "stream",
     "text": [
      "The most frequent word is: I\n"
     ]
    }
   ],
   "source": [
    "from collections import Counter\n",
    "\n",
    "def most_frequent_word(input_string):\n",
    "    words = input_string.split()\n",
    "    word_counts = Counter(words)\n",
    "    most_common_word, most_common_count = word_counts.most_common(1)[0]\n",
    "    return most_common_word\n",
    "\n",
    "\n",
    "input_string = \"I felt happy because I saw the others were happy and because I knew I should feel happy, but wasn't I really happy.\"\n",
    "result = most_frequent_word(input_string)\n",
    "print(f\"The most frequent word is: {result}\")"
   ]
  },
  {
   "cell_type": "markdown",
   "id": "58dc1409-c714-4274-bb54-f32966977523",
   "metadata": {},
   "source": [
    "# Q8.  Write a python function that receives a list of integers and prints out a histogram of bin size 10"
   ]
  },
  {
   "cell_type": "code",
   "execution_count": 37,
   "id": "ecc3e06c-669a-4ca8-9fda-90c4a7eb0e0e",
   "metadata": {},
   "outputs": [
    {
     "name": "stdout",
     "output_type": "stream",
     "text": [
      "{'11-20': 2, '21-30': 1, '31-40': 2, '41-50': 3, '51-60': 0}\n"
     ]
    }
   ],
   "source": [
    "def create_histogram(data):\n",
    "    \n",
    "    min_val = min(data)\n",
    "    max_val = max(data)\n",
    "    \n",
    "    bins = range(min_val // 10 * 10, (max_val // 10 + 1) * 10, 10)\n",
    "    \n",
    "    histogram = {f\"{bin_start+1}-{bin_start+10}\": 0 for bin_start in bins}\n",
    "    \n",
    "    for number in data:\n",
    "        bin_start = (number - 1) // 10 * 10\n",
    "        bin_range = f\"{bin_start+1}-{bin_start+10}\"\n",
    "        histogram[bin_range] += 1\n",
    "    \n",
    "    return histogram\n",
    "\n",
    "\n",
    "data = [13, 42, 15, 37, 22, 39, 41, 50]\n",
    "histogram = create_histogram(data)\n",
    "print(histogram)"
   ]
  },
  {
   "cell_type": "markdown",
   "id": "b6c7fabd-3371-4de7-956c-dbf96a272f84",
   "metadata": {},
   "source": [
    "# Q9. Write a python function that accepts a list of 2D co-ordinates and a query point, and then finds the the co-ordinate which is closest in terms of distance from the query point."
   ]
  },
  {
   "cell_type": "code",
   "execution_count": 40,
   "id": "d493fe89-182a-41d9-be41-3a248390327f",
   "metadata": {},
   "outputs": [
    {
     "name": "stdout",
     "output_type": "stream",
     "text": [
      "The closest coordinate to (0, 0) is (1, 1)\n"
     ]
    }
   ],
   "source": [
    "import math\n",
    "\n",
    "def find_closest_coordinate(coordinates, query_point):\n",
    "    def euclidean_distance(point1, point2):\n",
    "        return math.sqrt((point1[0] - point2[0]) * 2 + (point1[1] - point2[1]) * 2)\n",
    "    \n",
    "    closest_coordinate = None\n",
    "    min_distance = float('inf')\n",
    "    \n",
    "    for coordinate in coordinates:\n",
    "        distance = euclidean_distance(coordinate, query_point)\n",
    "        if distance < min_distance:\n",
    "            min_distance = distance\n",
    "            closest_coordinate = coordinate\n",
    "            \n",
    "    return closest_coordinate\n",
    "coordinates = [(1, 1), (2, 2), (3, 3), (4, 4)]\n",
    "query_point = (0, 0)\n",
    "closest_coordinate = find_closest_coordinate(coordinates, query_point)\n",
    "print(f'The closest coordinate to {query_point} is {closest_coordinate}')"
   ]
  },
  {
   "cell_type": "markdown",
   "id": "9ed20036-59ae-43d6-b0b2-5ff50ababa69",
   "metadata": {},
   "source": [
    "# Q10. Write a python program that receives a list of strings and performs bag of word operation on those strings"
   ]
  },
  {
   "cell_type": "code",
   "execution_count": 42,
   "id": "416c153a-7d4d-430f-b31d-550ee7012ad6",
   "metadata": {},
   "outputs": [
    {
     "name": "stdout",
     "output_type": "stream",
     "text": [
      "Bag of Words:\n",
      "Counter({'Hello': 1, 'How': 1, 'have': 1, 'you': 1, 'been': 1, 'Good': 1, 'to': 1, 'see': 1, 'You': 1})\n"
     ]
    }
   ],
   "source": [
    "def bag_of_words(strings):\n",
    "    \n",
    "    words = [word for string in strings for word in string.split()]\n",
    "    \n",
    "\n",
    "    word_counts = Counter(words)\n",
    "    \n",
    "    return word_counts\n",
    "\n",
    "\n",
    "strings = [\n",
    "    \"Hello \",\n",
    "    \"How have you been \",\n",
    "    \"Good to see You\"\n",
    "]\n",
    "\n",
    "bow = bag_of_words(strings)\n",
    "print(\"Bag of Words:\")\n",
    "print(bow)"
   ]
  },
  {
   "cell_type": "markdown",
   "id": "e5b49a17-ea7b-493e-afde-9f3795283182",
   "metadata": {},
   "source": [
    "# Q11. Write a python program that receives a list of strings and performs bag of word operation on those strings"
   ]
  },
  {
   "cell_type": "code",
   "execution_count": 43,
   "id": "4af449bc-4153-4eaa-a259-ba37e9f2243b",
   "metadata": {},
   "outputs": [
    {
     "name": "stdout",
     "output_type": "stream",
     "text": [
      "Result after adding three lists: [12, 15, 18]\n"
     ]
    }
   ],
   "source": [
    "\n",
    "list1 = [1, 2, 3]\n",
    "list2 = [4, 5, 6]\n",
    "list3 = [7, 8, 9]\n",
    "\n",
    "result = list(map(lambda x, y, z: x + y + z, list1, list2, list3))\n",
    "\n",
    "print(\"Result after adding three lists:\", result)"
   ]
  },
  {
   "cell_type": "markdown",
   "id": "514bb271-dcf0-4f20-9b00-4bf8f2ecdc80",
   "metadata": {},
   "source": [
    "# Q12. Write a Python program to create a list containing the power of said number in bases raised to the corresponding number in the index using Python map."
   ]
  },
  {
   "cell_type": "code",
   "execution_count": 50,
   "id": "e601321e-c11a-4b5a-b584-1f81a6c2896f",
   "metadata": {},
   "outputs": [
    {
     "name": "stdout",
     "output_type": "stream",
     "text": [
      "Resulting list of powers: [1, 2, 9, 64, 625, 7776, 117649, 2097152, 43046721, 1000000000]\n"
     ]
    }
   ],
   "source": [
    "bases = [1,2, 3, 4, 5,6,7,8,9,10]\n",
    "\n",
    "result = list(map(lambda base, exponent: base ** exponent, bases, range(len(bases))))\n",
    "\n",
    "print(\"Resulting list of powers:\", result)"
   ]
  },
  {
   "cell_type": "markdown",
   "id": "22171112-4006-4186-8c56-f959d360b079",
   "metadata": {},
   "source": [
    "# Q13. Using filter() and list() functions and .lower() method filter all the vowels in a given string."
   ]
  },
  {
   "cell_type": "code",
   "execution_count": 51,
   "id": "d8189fa9-c586-42ad-a620-7bf6a736a5b5",
   "metadata": {},
   "outputs": [
    {
     "name": "stdout",
     "output_type": "stream",
     "text": [
      "Filtered vowels from the string: ['e', 'o', 'o']\n"
     ]
    }
   ],
   "source": [
    "def is_vowel(char):\n",
    "    vowels = 'aeiou'\n",
    "    return char.lower() in vowels\n",
    "\n",
    "input_string = \"Hello, World!\"\n",
    "\n",
    "filtered_vowels = list(filter(is_vowel, input_string))\n",
    "\n",
    "print(\"Filtered vowels from the string:\", filtered_vowels)"
   ]
  },
  {
   "cell_type": "markdown",
   "id": "d9c362b1-c76c-442b-8532-f166b572a80b",
   "metadata": {},
   "source": [
    "# Q14.  Use reduce to convert a 2D list to 1D\n",
    "\n"
   ]
  },
  {
   "cell_type": "code",
   "execution_count": 56,
   "id": "9851dc6a-d59e-4bb9-8950-2e7d613decf4",
   "metadata": {},
   "outputs": [
    {
     "name": "stdout",
     "output_type": "stream",
     "text": [
      "1D list: ['S, a, m', 'i, k', 's, h, a']\n"
     ]
    }
   ],
   "source": [
    "from functools import reduce\n",
    "\n",
    "two_d_list = [[\"S, a, m\"], [\"i, k\"], [\"s, h, a\"]]\n",
    "one_d_list = reduce(lambda x, y: x + y, two_d_list)\n",
    "\n",
    "print(\"1D list:\", one_d_list)"
   ]
  },
  {
   "cell_type": "markdown",
   "id": "17bf4536-c2eb-4031-af6e-3de8cc71db45",
   "metadata": {},
   "source": [
    "# Q15. A dictionary contains following information about 5 employees:\n",
    "1.First name\n",
    "2.Last name\n",
    "3.Age\n",
    "4.Grade(Skilled,Semi-skilled,Highly skilled)\n",
    "5.Write a program using map/filter/reduce to a list of employees(first name + last name) who are highly skilled"
   ]
  },
  {
   "cell_type": "code",
   "execution_count": 60,
   "id": "4db839c7-4f79-4732-929a-5406ff2b7249",
   "metadata": {},
   "outputs": [
    {
     "name": "stdout",
     "output_type": "stream",
     "text": [
      "List of highly skilled employees (first name + last name): [('Ritika', 'Ratnparkhi'), ('Meera', 'Sable'), ('Dhruv', 'Narwade')]\n"
     ]
    }
   ],
   "source": [
    "from functools import reduce\n",
    "\n",
    "employees = [\n",
    "    {\n",
    "        \"first_name\": \"Sushil\", \n",
    "        \"last_name\": \"Raut\", \n",
    "        \"age\": 32, \n",
    "        \"grade\": \"Skilled\"\n",
    "    },\n",
    "    {\n",
    "        \"first_name\": \"Ritika\", \n",
    "        \"last_name\": \"Ratnparkhi\", \n",
    "        \"age\": 28, \n",
    "        \"grade\": \"Highly skilled\"\n",
    "    },\n",
    "    {\n",
    "        \"first_name\": \"Meera\", \n",
    "        \"last_name\": \"Sable\", \n",
    "        \"age\": 26, \n",
    "        \"grade\": \"Highly skilled\"\n",
    "    },\n",
    "    {\n",
    "        \"first_name\": \"Aditiya\",\n",
    "        \"last_name\": \"Kamble\", \n",
    "        \"age\": 24, \n",
    "        \"grade\": \"Semi-skilled\"\n",
    "    },\n",
    "    {\n",
    "        \"first_name\": \"Dhruv\", \n",
    "        \"last_name\": \"Narwade\", \n",
    "        \"age\": 20, \n",
    "        \"grade\": \"Highly skilled\"\n",
    "    }\n",
    "]\n",
    "\n",
    "highly_skilled_employees = filter(lambda emp: emp['grade'] == 'Highly skilled', employees)\n",
    "                                  \n",
    "highly_skilled_names = list(map(lambda emp: (emp['first_name'], emp['last_name']), highly_skilled_employees))\n",
    "                                  \n",
    "print(\"List of highly skilled employees (first name + last name):\", highly_skilled_names)"
   ]
  },
  {
   "cell_type": "code",
   "execution_count": null,
   "id": "1fb7913a-d605-44df-b1b8-aac11071b015",
   "metadata": {},
   "outputs": [],
   "source": []
  }
 ],
 "metadata": {
  "kernelspec": {
   "display_name": "Python 3 (ipykernel)",
   "language": "python",
   "name": "python3"
  },
  "language_info": {
   "codemirror_mode": {
    "name": "ipython",
    "version": 3
   },
   "file_extension": ".py",
   "mimetype": "text/x-python",
   "name": "python",
   "nbconvert_exporter": "python",
   "pygments_lexer": "ipython3",
   "version": "3.11.7"
  }
 },
 "nbformat": 4,
 "nbformat_minor": 5
}
